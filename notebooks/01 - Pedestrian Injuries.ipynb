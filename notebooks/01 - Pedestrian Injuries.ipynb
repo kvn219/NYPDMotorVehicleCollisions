{
 "cells": [
  {
   "cell_type": "code",
   "execution_count": 1,
   "metadata": {
    "ExecuteTime": {
     "end_time": "2017-03-05T21:05:59.141372",
     "start_time": "2017-03-05T21:05:58.177739"
    },
    "collapsed": true
   },
   "outputs": [],
   "source": [
    "%matplotlib inline\n",
    "import numpy as np\n",
    "import pandas as pd\n",
    "import matplotlib.pylab as plt\n",
    "import seaborn as sns\n",
    "import missingno as msno\n",
    "from matplotlib.colors import LogNorm\n",
    "\n",
    "\n",
    "# Pandas Printing Options\n",
    "pd.set_option('display.float_format', lambda x: '%.3f' % x)\n",
    "pd.set_option('display.max_rows', 500)\n",
    "pd.set_option('display.max_columns', 500)\n",
    "pd.set_option('display.width', 1000)\n",
    "\n",
    "sns.set_style('white')"
   ]
  },
  {
   "cell_type": "markdown",
   "metadata": {},
   "source": [
    "# DOWNLOAD DATA"
   ]
  },
  {
   "cell_type": "code",
   "execution_count": 2,
   "metadata": {
    "ExecuteTime": {
     "end_time": "2017-03-05T21:05:59.265469",
     "start_time": "2017-03-05T21:05:59.143030"
    },
    "collapsed": false
   },
   "outputs": [
    {
     "name": "stdout",
     "output_type": "stream",
     "text": [
      "\u001b[34mbower_components\u001b[m\u001b[m/ \u001b[34mdata\u001b[m\u001b[m/             \u001b[31mindex.html\u001b[m\u001b[m*       \u001b[34mnotebooks\u001b[m\u001b[m/\r\n",
      "\u001b[34mcss\u001b[m\u001b[m/              \u001b[34mimages\u001b[m\u001b[m/           \u001b[34mjs\u001b[m\u001b[m/\r\n"
     ]
    }
   ],
   "source": [
    "ls .."
   ]
  },
  {
   "cell_type": "code",
   "execution_count": 3,
   "metadata": {
    "ExecuteTime": {
     "end_time": "2017-03-05T21:07:52.979797",
     "start_time": "2017-03-05T21:05:59.268468"
    },
    "collapsed": false
   },
   "outputs": [
    {
     "name": "stdout",
     "output_type": "stream",
     "text": [
      "--2017-03-05 21:05:59--  https://data.cityofnewyork.us/api/views/h9gi-nx95/rows.csv?accessType=DOWNLOAD\n",
      "Resolving data.cityofnewyork.us... 52.206.68.26, 52.206.68.26, 52.206.140.205\n",
      "Connecting to data.cityofnewyork.us|52.206.68.26|:443... connected.\n",
      "HTTP request sent, awaiting response... 200 OK\n",
      "Length: unspecified [text/csv]\n",
      "Saving to: ‘STDOUT’\n",
      "\n",
      "-                       [                <=> ] 179.56M   750KB/s    in 1m 53s  \n",
      "\n",
      "Last-modified header invalid -- time-stamp ignored.\n",
      "2017-03-05 21:07:52 (1.59 MB/s) - written to stdout [188287277]\n",
      "\n"
     ]
    }
   ],
   "source": [
    "!wget -O - 'https://data.cityofnewyork.us/api/views/h9gi-nx95/rows.csv?accessType=DOWNLOAD' > ../data/nypd_collision_data.csv"
   ]
  },
  {
   "cell_type": "markdown",
   "metadata": {},
   "source": [
    "# LOAD DATA"
   ]
  },
  {
   "cell_type": "code",
   "execution_count": 4,
   "metadata": {
    "ExecuteTime": {
     "end_time": "2017-03-05T21:07:58.521292",
     "start_time": "2017-03-05T21:07:52.982189"
    },
    "collapsed": false
   },
   "outputs": [],
   "source": [
    "data = pd.read_csv(\"../data/nypd_collision_data.csv\", low_memory=False)"
   ]
  },
  {
   "cell_type": "code",
   "execution_count": 5,
   "metadata": {
    "ExecuteTime": {
     "end_time": "2017-03-05T21:10:48.647183",
     "start_time": "2017-03-05T21:07:58.523312"
    },
    "collapsed": false
   },
   "outputs": [
    {
     "name": "stdout",
     "output_type": "stream",
     "text": [
      "<class 'pandas.core.frame.DataFrame'>\n",
      "DatetimeIndex: 987872 entries, 2017-02-09 17:15:00 to 2012-07-01 09:15:00\n",
      "Data columns (total 29 columns):\n",
      "TIME                             987872 non-null object\n",
      "BOROUGH                          728178 non-null object\n",
      "ZIP CODE                         728078 non-null float64\n",
      "LATITUDE                         786564 non-null float64\n",
      "LONGITUDE                        786564 non-null float64\n",
      "LOCATION                         786564 non-null object\n",
      "ON STREET NAME                   800677 non-null object\n",
      "CROSS STREET NAME                771699 non-null object\n",
      "OFF STREET NAME                  73331 non-null object\n",
      "NUMBER OF PERSONS INJURED        987872 non-null int64\n",
      "NUMBER OF PERSONS KILLED         987872 non-null int64\n",
      "NUMBER OF PEDESTRIANS INJURED    987872 non-null int64\n",
      "NUMBER OF PEDESTRIANS KILLED     987872 non-null int64\n",
      "NUMBER OF CYCLIST INJURED        987872 non-null int64\n",
      "NUMBER OF CYCLIST KILLED         987872 non-null int64\n",
      "NUMBER OF MOTORIST INJURED       987872 non-null int64\n",
      "NUMBER OF MOTORIST KILLED        987872 non-null int64\n",
      "CONTRIBUTING FACTOR VEHICLE 1    983904 non-null object\n",
      "CONTRIBUTING FACTOR VEHICLE 2    864731 non-null object\n",
      "CONTRIBUTING FACTOR VEHICLE 3    64931 non-null object\n",
      "CONTRIBUTING FACTOR VEHICLE 4    14039 non-null object\n",
      "CONTRIBUTING FACTOR VEHICLE 5    3432 non-null object\n",
      "UNIQUE KEY                       987872 non-null int64\n",
      "VEHICLE TYPE CODE 1              983030 non-null object\n",
      "VEHICLE TYPE CODE 2              853827 non-null object\n",
      "VEHICLE TYPE CODE 3              63763 non-null object\n",
      "VEHICLE TYPE CODE 4              13676 non-null object\n",
      "VEHICLE TYPE CODE 5              3357 non-null object\n",
      "COLLISION                        987872 non-null int64\n",
      "dtypes: float64(3), int64(10), object(16)\n",
      "memory usage: 226.1+ MB\n"
     ]
    }
   ],
   "source": [
    "# CREATE DATETIME COLUMN\n",
    "data['DATE'] = pd.to_datetime(data['DATE'] + ' ' + data['TIME'])\n",
    "\n",
    "# SET DATETIME AS INDEX\n",
    "data = data.set_index('DATE')\n",
    "\n",
    "# ADD COLLISION COLUMN FOR SIMPLE AGGREGATION\n",
    "data['COLLISION'] = 1\n",
    "\n",
    "# SCOPE OUT HIGHLEVEL DATA INFORMATION\n",
    "data.info()"
   ]
  },
  {
   "cell_type": "code",
   "execution_count": 6,
   "metadata": {
    "ExecuteTime": {
     "end_time": "2017-03-05T21:10:48.657215",
     "start_time": "2017-03-05T21:10:48.649662"
    },
    "collapsed": false
   },
   "outputs": [
    {
     "name": "stdout",
     "output_type": "stream",
     "text": [
      "2012-07-01 00:05:00\n",
      "2017-02-28 23:36:00\n"
     ]
    }
   ],
   "source": [
    "# # NOTE: data starting 2013-01-01 and ending in 2017-02-28\n",
    "print(data.index.min())\n",
    "print(data.index.max())"
   ]
  },
  {
   "cell_type": "markdown",
   "metadata": {},
   "source": [
    "# FILTER FOR COLLISIONS WITH PEDESTRIANS INJURED "
   ]
  },
  {
   "cell_type": "code",
   "execution_count": 7,
   "metadata": {
    "ExecuteTime": {
     "end_time": "2017-03-05T21:10:50.324948",
     "start_time": "2017-03-05T21:10:48.659410"
    },
    "collapsed": false
   },
   "outputs": [
    {
     "data": {
      "text/plain": [
       "(43849, 29)"
      ]
     },
     "execution_count": 7,
     "metadata": {},
     "output_type": "execute_result"
    }
   ],
   "source": [
    "data = data[data['NUMBER OF PEDESTRIANS INJURED']!=0]\n",
    "\n",
    "\n",
    "# SAVE FULL DATA FOR USE LATER\n",
    "full_data = data['2013/01/01':'2017/02/28']\n",
    "full_data.to_csv(\"../data/injuries_2013_2016.csv\")\n",
    "\n",
    "# FILTER DATA FOR THIS NOTEBOOK\n",
    "data = data['2013/01/01':'2017/02/28']\n",
    "data.to_csv(\"../data/injuries_2013_present.csv\")\n",
    "\n",
    "data.shape"
   ]
  },
  {
   "cell_type": "markdown",
   "metadata": {},
   "source": [
    "# NUM PEDESTRIANS INJURED FROM AUTO COLLISIONS"
   ]
  },
  {
   "cell_type": "code",
   "execution_count": 8,
   "metadata": {
    "ExecuteTime": {
     "end_time": "2017-03-05T21:10:50.402380",
     "start_time": "2017-03-05T21:10:50.326541"
    },
    "collapsed": false
   },
   "outputs": [
    {
     "data": {
      "text/plain": [
       "DATE\n",
       "2013-01-31    1113\n",
       "2013-02-28     984\n",
       "2013-03-31     987\n",
       "2013-04-30     901\n",
       "2013-05-31     982\n",
       "2013-06-30     972\n",
       "2013-07-31     854\n",
       "2013-08-31     853\n",
       "2013-09-30     999\n",
       "2013-10-31    1066\n",
       "Freq: M, Name: NUMBER OF PEDESTRIANS INJURED, dtype: int64"
      ]
     },
     "execution_count": 8,
     "metadata": {},
     "output_type": "execute_result"
    }
   ],
   "source": [
    "monthly_injured = data.resample('M')['NUMBER OF PEDESTRIANS INJURED'].sum()\n",
    "monthly_injured[:10]"
   ]
  },
  {
   "cell_type": "code",
   "execution_count": 9,
   "metadata": {
    "ExecuteTime": {
     "end_time": "2017-03-05T21:10:50.444159",
     "start_time": "2017-03-05T21:10:50.403890"
    },
    "collapsed": false
   },
   "outputs": [
    {
     "data": {
      "text/plain": [
       "DATE\n",
       "2013-01-01    34\n",
       "2013-01-02    22\n",
       "2013-01-03    43\n",
       "2013-01-04    31\n",
       "2013-01-05    28\n",
       "2013-01-06    25\n",
       "2013-01-07    38\n",
       "2013-01-08    30\n",
       "2013-01-09    40\n",
       "2013-01-10    51\n",
       "Freq: D, Name: NUMBER OF PEDESTRIANS INJURED, dtype: int64"
      ]
     },
     "execution_count": 9,
     "metadata": {},
     "output_type": "execute_result"
    }
   ],
   "source": [
    "daily_injured = data.resample('D')['NUMBER OF PEDESTRIANS INJURED'].sum()\n",
    "daily_injured[:10]\n",
    "\n",
    "daily_injured[:10]"
   ]
  },
  {
   "cell_type": "markdown",
   "metadata": {},
   "source": [
    "# FILTER BY BORO"
   ]
  },
  {
   "cell_type": "code",
   "execution_count": 10,
   "metadata": {
    "ExecuteTime": {
     "end_time": "2017-03-05T21:10:50.458415",
     "start_time": "2017-03-05T21:10:50.445722"
    },
    "collapsed": false
   },
   "outputs": [],
   "source": [
    "borough_injuries_month = data.groupby([data.index.month, data.BOROUGH])['NUMBER OF PEDESTRIANS INJURED'].sum().unstack()"
   ]
  },
  {
   "cell_type": "markdown",
   "metadata": {},
   "source": [
    "# NUM PEDESTRIANS INJURED BY DAY FROM AUTO COLLISIONS"
   ]
  },
  {
   "cell_type": "code",
   "execution_count": 11,
   "metadata": {
    "ExecuteTime": {
     "end_time": "2017-03-05T21:10:50.471477",
     "start_time": "2017-03-05T21:10:50.459776"
    },
    "collapsed": false
   },
   "outputs": [],
   "source": [
    "# borough_injuries_year = data.groupby([data.index.year, data.BOROUGH])['NUMBER OF PEDESTRIANS INJURED'].sum().unstack()\n",
    "borough_injuries_daily = data.groupby([data.index.day, data.BOROUGH])['NUMBER OF PEDESTRIANS INJURED'].sum().unstack()"
   ]
  },
  {
   "cell_type": "markdown",
   "metadata": {},
   "source": [
    "# CLEANUP DATA"
   ]
  },
  {
   "cell_type": "code",
   "execution_count": 12,
   "metadata": {
    "ExecuteTime": {
     "end_time": "2017-03-05T21:10:50.476375",
     "start_time": "2017-03-05T21:10:50.472875"
    },
    "collapsed": false
   },
   "outputs": [],
   "source": [
    "borough_by_biggest_population = ['MANHATTAN', 'BROOKLYN', 'QUEENS', 'BRONX', 'STATEN ISLAND']\n",
    "\n",
    "borough_injuries_month = borough_injuries_month[borough_by_biggest_population]"
   ]
  },
  {
   "cell_type": "code",
   "execution_count": 13,
   "metadata": {
    "ExecuteTime": {
     "end_time": "2017-03-05T21:10:50.488962",
     "start_time": "2017-03-05T21:10:50.477643"
    },
    "collapsed": false
   },
   "outputs": [
    {
     "data": {
      "text/html": [
       "<div>\n",
       "<table border=\"1\" class=\"dataframe\">\n",
       "  <thead>\n",
       "    <tr style=\"text-align: right;\">\n",
       "      <th>BOROUGH</th>\n",
       "      <th>MANHATTAN</th>\n",
       "      <th>BROOKLYN</th>\n",
       "      <th>QUEENS</th>\n",
       "      <th>BRONX</th>\n",
       "      <th>STATEN ISLAND</th>\n",
       "    </tr>\n",
       "  </thead>\n",
       "  <tbody>\n",
       "    <tr>\n",
       "      <th>January</th>\n",
       "      <td>1162</td>\n",
       "      <td>1677</td>\n",
       "      <td>1184</td>\n",
       "      <td>699</td>\n",
       "      <td>159</td>\n",
       "    </tr>\n",
       "    <tr>\n",
       "      <th>February</th>\n",
       "      <td>1020</td>\n",
       "      <td>1166</td>\n",
       "      <td>771</td>\n",
       "      <td>572</td>\n",
       "      <td>122</td>\n",
       "    </tr>\n",
       "    <tr>\n",
       "      <th>March</th>\n",
       "      <td>841</td>\n",
       "      <td>1073</td>\n",
       "      <td>718</td>\n",
       "      <td>511</td>\n",
       "      <td>83</td>\n",
       "    </tr>\n",
       "    <tr>\n",
       "      <th>April</th>\n",
       "      <td>777</td>\n",
       "      <td>1008</td>\n",
       "      <td>629</td>\n",
       "      <td>503</td>\n",
       "      <td>79</td>\n",
       "    </tr>\n",
       "    <tr>\n",
       "      <th>May</th>\n",
       "      <td>798</td>\n",
       "      <td>1064</td>\n",
       "      <td>660</td>\n",
       "      <td>494</td>\n",
       "      <td>85</td>\n",
       "    </tr>\n",
       "    <tr>\n",
       "      <th>June</th>\n",
       "      <td>762</td>\n",
       "      <td>1026</td>\n",
       "      <td>637</td>\n",
       "      <td>466</td>\n",
       "      <td>75</td>\n",
       "    </tr>\n",
       "    <tr>\n",
       "      <th>July</th>\n",
       "      <td>695</td>\n",
       "      <td>875</td>\n",
       "      <td>558</td>\n",
       "      <td>429</td>\n",
       "      <td>72</td>\n",
       "    </tr>\n",
       "    <tr>\n",
       "      <th>August</th>\n",
       "      <td>854</td>\n",
       "      <td>1134</td>\n",
       "      <td>672</td>\n",
       "      <td>524</td>\n",
       "      <td>76</td>\n",
       "    </tr>\n",
       "    <tr>\n",
       "      <th>September</th>\n",
       "      <td>753</td>\n",
       "      <td>1009</td>\n",
       "      <td>736</td>\n",
       "      <td>488</td>\n",
       "      <td>69</td>\n",
       "    </tr>\n",
       "    <tr>\n",
       "      <th>October</th>\n",
       "      <td>862</td>\n",
       "      <td>1227</td>\n",
       "      <td>894</td>\n",
       "      <td>563</td>\n",
       "      <td>96</td>\n",
       "    </tr>\n",
       "    <tr>\n",
       "      <th>November</th>\n",
       "      <td>855</td>\n",
       "      <td>1254</td>\n",
       "      <td>948</td>\n",
       "      <td>564</td>\n",
       "      <td>115</td>\n",
       "    </tr>\n",
       "    <tr>\n",
       "      <th>December</th>\n",
       "      <td>940</td>\n",
       "      <td>1358</td>\n",
       "      <td>994</td>\n",
       "      <td>571</td>\n",
       "      <td>83</td>\n",
       "    </tr>\n",
       "  </tbody>\n",
       "</table>\n",
       "</div>"
      ],
      "text/plain": [
       "BOROUGH    MANHATTAN  BROOKLYN  QUEENS  BRONX  STATEN ISLAND\n",
       "January         1162      1677    1184    699            159\n",
       "February        1020      1166     771    572            122\n",
       "March            841      1073     718    511             83\n",
       "April            777      1008     629    503             79\n",
       "May              798      1064     660    494             85\n",
       "June             762      1026     637    466             75\n",
       "July             695       875     558    429             72\n",
       "August           854      1134     672    524             76\n",
       "September        753      1009     736    488             69\n",
       "October          862      1227     894    563             96\n",
       "November         855      1254     948    564            115\n",
       "December         940      1358     994    571             83"
      ]
     },
     "execution_count": 13,
     "metadata": {},
     "output_type": "execute_result"
    }
   ],
   "source": [
    "months = ['January', 'February', 'March', 'April', 'May', 'June', 'July', 'August', 'September', 'October', 'November', 'December']\n",
    "months_abbr = [m[:3] for m in months]\n",
    "\n",
    "borough_injuries_month.index = months\n",
    "borough_injuries_month"
   ]
  },
  {
   "cell_type": "markdown",
   "metadata": {
    "ExecuteTime": {
     "end_time": "2017-03-05T18:42:17.190162",
     "start_time": "2017-03-05T18:42:17.181142"
    }
   },
   "source": [
    "# PLOT RESULTS"
   ]
  },
  {
   "cell_type": "code",
   "execution_count": 14,
   "metadata": {
    "ExecuteTime": {
     "end_time": "2017-03-05T21:10:51.691852",
     "start_time": "2017-03-05T21:10:50.490106"
    },
    "collapsed": false
   },
   "outputs": [
    {
     "data": {
      "image/png": "[encoded data removed]",
      "text/plain": [
       "<matplotlib.figure.Figure at 0x118155208>"
      ]
     },
     "metadata": {},
     "output_type": "display_data"
    }
   ],
   "source": [
    "sns.set(style=\"white\")\n",
    "\n",
    "# Set up the matplotlib figure\n",
    "f, (ax1, ax2, ax3, ax4, ax5) = plt.subplots(5, 1, figsize=(8, 12), sharex=True, sharey=True)\n",
    "f.subplots_adjust(hspace=.3)\n",
    "\n",
    "for boro, ax in zip(borough_injuries_month, [ax1, ax2, ax3, ax4, ax5]):\n",
    "    values = borough_injuries_month[boro].values\n",
    "    colors = ['gray' if (x < max(values)) else 'red' for x in values]\n",
    "    sns.barplot(months_abbr, borough_injuries_month[boro], palette=colors, ax=ax)\n",
    "    ax.set_title(boro, loc='right', weight='bold', fontdict={'fontsize': 12})\n",
    "    ax.set_ylabel('')\n",
    "    ax.tick_params(direction='inout', length=4, width=1, colors='black')\n",
    "    sns.despine(bottom=True)\n",
    "\n",
    "plt.ylim(0, 1500)\n",
    "plt.show();"
   ]
  },
  {
   "cell_type": "markdown",
   "metadata": {},
   "source": [
    "# borough_injuries_month"
   ]
  },
  {
   "cell_type": "code",
   "execution_count": 15,
   "metadata": {
    "ExecuteTime": {
     "end_time": "2017-03-05T21:10:51.703555",
     "start_time": "2017-03-05T21:10:51.693366"
    },
    "collapsed": false
   },
   "outputs": [
    {
     "data": {
      "text/html": [
       "<div>\n",
       "<table border=\"1\" class=\"dataframe\">\n",
       "  <thead>\n",
       "    <tr style=\"text-align: right;\">\n",
       "      <th>BOROUGH</th>\n",
       "      <th>MANHATTAN</th>\n",
       "      <th>BROOKLYN</th>\n",
       "      <th>QUEENS</th>\n",
       "      <th>BRONX</th>\n",
       "      <th>STATEN ISLAND</th>\n",
       "    </tr>\n",
       "  </thead>\n",
       "  <tbody>\n",
       "    <tr>\n",
       "      <th>January</th>\n",
       "      <td>1162</td>\n",
       "      <td>1677</td>\n",
       "      <td>1184</td>\n",
       "      <td>699</td>\n",
       "      <td>159</td>\n",
       "    </tr>\n",
       "    <tr>\n",
       "      <th>February</th>\n",
       "      <td>1020</td>\n",
       "      <td>1166</td>\n",
       "      <td>771</td>\n",
       "      <td>572</td>\n",
       "      <td>122</td>\n",
       "    </tr>\n",
       "    <tr>\n",
       "      <th>March</th>\n",
       "      <td>841</td>\n",
       "      <td>1073</td>\n",
       "      <td>718</td>\n",
       "      <td>511</td>\n",
       "      <td>83</td>\n",
       "    </tr>\n",
       "    <tr>\n",
       "      <th>April</th>\n",
       "      <td>777</td>\n",
       "      <td>1008</td>\n",
       "      <td>629</td>\n",
       "      <td>503</td>\n",
       "      <td>79</td>\n",
       "    </tr>\n",
       "    <tr>\n",
       "      <th>May</th>\n",
       "      <td>798</td>\n",
       "      <td>1064</td>\n",
       "      <td>660</td>\n",
       "      <td>494</td>\n",
       "      <td>85</td>\n",
       "    </tr>\n",
       "    <tr>\n",
       "      <th>June</th>\n",
       "      <td>762</td>\n",
       "      <td>1026</td>\n",
       "      <td>637</td>\n",
       "      <td>466</td>\n",
       "      <td>75</td>\n",
       "    </tr>\n",
       "    <tr>\n",
       "      <th>July</th>\n",
       "      <td>695</td>\n",
       "      <td>875</td>\n",
       "      <td>558</td>\n",
       "      <td>429</td>\n",
       "      <td>72</td>\n",
       "    </tr>\n",
       "    <tr>\n",
       "      <th>August</th>\n",
       "      <td>854</td>\n",
       "      <td>1134</td>\n",
       "      <td>672</td>\n",
       "      <td>524</td>\n",
       "      <td>76</td>\n",
       "    </tr>\n",
       "    <tr>\n",
       "      <th>September</th>\n",
       "      <td>753</td>\n",
       "      <td>1009</td>\n",
       "      <td>736</td>\n",
       "      <td>488</td>\n",
       "      <td>69</td>\n",
       "    </tr>\n",
       "    <tr>\n",
       "      <th>October</th>\n",
       "      <td>862</td>\n",
       "      <td>1227</td>\n",
       "      <td>894</td>\n",
       "      <td>563</td>\n",
       "      <td>96</td>\n",
       "    </tr>\n",
       "    <tr>\n",
       "      <th>November</th>\n",
       "      <td>855</td>\n",
       "      <td>1254</td>\n",
       "      <td>948</td>\n",
       "      <td>564</td>\n",
       "      <td>115</td>\n",
       "    </tr>\n",
       "    <tr>\n",
       "      <th>December</th>\n",
       "      <td>940</td>\n",
       "      <td>1358</td>\n",
       "      <td>994</td>\n",
       "      <td>571</td>\n",
       "      <td>83</td>\n",
       "    </tr>\n",
       "  </tbody>\n",
       "</table>\n",
       "</div>"
      ],
      "text/plain": [
       "BOROUGH    MANHATTAN  BROOKLYN  QUEENS  BRONX  STATEN ISLAND\n",
       "January         1162      1677    1184    699            159\n",
       "February        1020      1166     771    572            122\n",
       "March            841      1073     718    511             83\n",
       "April            777      1008     629    503             79\n",
       "May              798      1064     660    494             85\n",
       "June             762      1026     637    466             75\n",
       "July             695       875     558    429             72\n",
       "August           854      1134     672    524             76\n",
       "September        753      1009     736    488             69\n",
       "October          862      1227     894    563             96\n",
       "November         855      1254     948    564            115\n",
       "December         940      1358     994    571             83"
      ]
     },
     "execution_count": 15,
     "metadata": {},
     "output_type": "execute_result"
    }
   ],
   "source": [
    "borough_injuries_month"
   ]
  },
  {
   "cell_type": "markdown",
   "metadata": {},
   "source": [
    "# borough_injuries_daily"
   ]
  },
  {
   "cell_type": "code",
   "execution_count": 16,
   "metadata": {
    "ExecuteTime": {
     "end_time": "2017-03-05T21:10:51.717728",
     "start_time": "2017-03-05T21:10:51.705156"
    },
    "collapsed": false
   },
   "outputs": [
    {
     "data": {
      "text/html": [
       "<div>\n",
       "<table border=\"1\" class=\"dataframe\">\n",
       "  <thead>\n",
       "    <tr style=\"text-align: right;\">\n",
       "      <th>BOROUGH</th>\n",
       "      <th>BRONX</th>\n",
       "      <th>BROOKLYN</th>\n",
       "      <th>MANHATTAN</th>\n",
       "      <th>QUEENS</th>\n",
       "      <th>STATEN ISLAND</th>\n",
       "    </tr>\n",
       "  </thead>\n",
       "  <tbody>\n",
       "    <tr>\n",
       "      <th>1</th>\n",
       "      <td>217</td>\n",
       "      <td>456</td>\n",
       "      <td>352</td>\n",
       "      <td>316</td>\n",
       "      <td>44</td>\n",
       "    </tr>\n",
       "    <tr>\n",
       "      <th>2</th>\n",
       "      <td>187</td>\n",
       "      <td>479</td>\n",
       "      <td>307</td>\n",
       "      <td>271</td>\n",
       "      <td>34</td>\n",
       "    </tr>\n",
       "    <tr>\n",
       "      <th>3</th>\n",
       "      <td>234</td>\n",
       "      <td>481</td>\n",
       "      <td>351</td>\n",
       "      <td>351</td>\n",
       "      <td>28</td>\n",
       "    </tr>\n",
       "    <tr>\n",
       "      <th>4</th>\n",
       "      <td>243</td>\n",
       "      <td>475</td>\n",
       "      <td>284</td>\n",
       "      <td>320</td>\n",
       "      <td>50</td>\n",
       "    </tr>\n",
       "    <tr>\n",
       "      <th>5</th>\n",
       "      <td>181</td>\n",
       "      <td>484</td>\n",
       "      <td>323</td>\n",
       "      <td>284</td>\n",
       "      <td>41</td>\n",
       "    </tr>\n",
       "    <tr>\n",
       "      <th>6</th>\n",
       "      <td>211</td>\n",
       "      <td>490</td>\n",
       "      <td>351</td>\n",
       "      <td>333</td>\n",
       "      <td>42</td>\n",
       "    </tr>\n",
       "    <tr>\n",
       "      <th>7</th>\n",
       "      <td>213</td>\n",
       "      <td>431</td>\n",
       "      <td>329</td>\n",
       "      <td>346</td>\n",
       "      <td>30</td>\n",
       "    </tr>\n",
       "    <tr>\n",
       "      <th>8</th>\n",
       "      <td>194</td>\n",
       "      <td>454</td>\n",
       "      <td>333</td>\n",
       "      <td>305</td>\n",
       "      <td>33</td>\n",
       "    </tr>\n",
       "    <tr>\n",
       "      <th>9</th>\n",
       "      <td>176</td>\n",
       "      <td>438</td>\n",
       "      <td>299</td>\n",
       "      <td>274</td>\n",
       "      <td>30</td>\n",
       "    </tr>\n",
       "    <tr>\n",
       "      <th>10</th>\n",
       "      <td>182</td>\n",
       "      <td>486</td>\n",
       "      <td>383</td>\n",
       "      <td>298</td>\n",
       "      <td>46</td>\n",
       "    </tr>\n",
       "    <tr>\n",
       "      <th>11</th>\n",
       "      <td>219</td>\n",
       "      <td>475</td>\n",
       "      <td>316</td>\n",
       "      <td>319</td>\n",
       "      <td>33</td>\n",
       "    </tr>\n",
       "    <tr>\n",
       "      <th>12</th>\n",
       "      <td>197</td>\n",
       "      <td>477</td>\n",
       "      <td>366</td>\n",
       "      <td>288</td>\n",
       "      <td>28</td>\n",
       "    </tr>\n",
       "    <tr>\n",
       "      <th>13</th>\n",
       "      <td>189</td>\n",
       "      <td>447</td>\n",
       "      <td>330</td>\n",
       "      <td>312</td>\n",
       "      <td>26</td>\n",
       "    </tr>\n",
       "    <tr>\n",
       "      <th>14</th>\n",
       "      <td>213</td>\n",
       "      <td>427</td>\n",
       "      <td>363</td>\n",
       "      <td>311</td>\n",
       "      <td>45</td>\n",
       "    </tr>\n",
       "    <tr>\n",
       "      <th>15</th>\n",
       "      <td>201</td>\n",
       "      <td>475</td>\n",
       "      <td>349</td>\n",
       "      <td>305</td>\n",
       "      <td>31</td>\n",
       "    </tr>\n",
       "    <tr>\n",
       "      <th>16</th>\n",
       "      <td>196</td>\n",
       "      <td>449</td>\n",
       "      <td>425</td>\n",
       "      <td>328</td>\n",
       "      <td>44</td>\n",
       "    </tr>\n",
       "    <tr>\n",
       "      <th>17</th>\n",
       "      <td>234</td>\n",
       "      <td>489</td>\n",
       "      <td>373</td>\n",
       "      <td>311</td>\n",
       "      <td>56</td>\n",
       "    </tr>\n",
       "    <tr>\n",
       "      <th>18</th>\n",
       "      <td>227</td>\n",
       "      <td>459</td>\n",
       "      <td>348</td>\n",
       "      <td>281</td>\n",
       "      <td>33</td>\n",
       "    </tr>\n",
       "    <tr>\n",
       "      <th>19</th>\n",
       "      <td>203</td>\n",
       "      <td>459</td>\n",
       "      <td>368</td>\n",
       "      <td>284</td>\n",
       "      <td>44</td>\n",
       "    </tr>\n",
       "    <tr>\n",
       "      <th>20</th>\n",
       "      <td>210</td>\n",
       "      <td>490</td>\n",
       "      <td>356</td>\n",
       "      <td>323</td>\n",
       "      <td>54</td>\n",
       "    </tr>\n",
       "    <tr>\n",
       "      <th>21</th>\n",
       "      <td>217</td>\n",
       "      <td>405</td>\n",
       "      <td>335</td>\n",
       "      <td>293</td>\n",
       "      <td>28</td>\n",
       "    </tr>\n",
       "    <tr>\n",
       "      <th>22</th>\n",
       "      <td>200</td>\n",
       "      <td>409</td>\n",
       "      <td>329</td>\n",
       "      <td>339</td>\n",
       "      <td>43</td>\n",
       "    </tr>\n",
       "    <tr>\n",
       "      <th>23</th>\n",
       "      <td>264</td>\n",
       "      <td>559</td>\n",
       "      <td>390</td>\n",
       "      <td>351</td>\n",
       "      <td>40</td>\n",
       "    </tr>\n",
       "    <tr>\n",
       "      <th>24</th>\n",
       "      <td>240</td>\n",
       "      <td>474</td>\n",
       "      <td>337</td>\n",
       "      <td>307</td>\n",
       "      <td>32</td>\n",
       "    </tr>\n",
       "    <tr>\n",
       "      <th>25</th>\n",
       "      <td>176</td>\n",
       "      <td>385</td>\n",
       "      <td>282</td>\n",
       "      <td>236</td>\n",
       "      <td>34</td>\n",
       "    </tr>\n",
       "    <tr>\n",
       "      <th>26</th>\n",
       "      <td>247</td>\n",
       "      <td>453</td>\n",
       "      <td>307</td>\n",
       "      <td>317</td>\n",
       "      <td>15</td>\n",
       "    </tr>\n",
       "    <tr>\n",
       "      <th>27</th>\n",
       "      <td>212</td>\n",
       "      <td>436</td>\n",
       "      <td>349</td>\n",
       "      <td>282</td>\n",
       "      <td>34</td>\n",
       "    </tr>\n",
       "    <tr>\n",
       "      <th>28</th>\n",
       "      <td>206</td>\n",
       "      <td>403</td>\n",
       "      <td>318</td>\n",
       "      <td>310</td>\n",
       "      <td>25</td>\n",
       "    </tr>\n",
       "    <tr>\n",
       "      <th>29</th>\n",
       "      <td>204</td>\n",
       "      <td>390</td>\n",
       "      <td>262</td>\n",
       "      <td>311</td>\n",
       "      <td>35</td>\n",
       "    </tr>\n",
       "    <tr>\n",
       "      <th>30</th>\n",
       "      <td>177</td>\n",
       "      <td>377</td>\n",
       "      <td>320</td>\n",
       "      <td>310</td>\n",
       "      <td>38</td>\n",
       "    </tr>\n",
       "    <tr>\n",
       "      <th>31</th>\n",
       "      <td>114</td>\n",
       "      <td>259</td>\n",
       "      <td>184</td>\n",
       "      <td>185</td>\n",
       "      <td>18</td>\n",
       "    </tr>\n",
       "  </tbody>\n",
       "</table>\n",
       "</div>"
      ],
      "text/plain": [
       "BOROUGH  BRONX  BROOKLYN  MANHATTAN  QUEENS  STATEN ISLAND\n",
       "1          217       456        352     316             44\n",
       "2          187       479        307     271             34\n",
       "3          234       481        351     351             28\n",
       "4          243       475        284     320             50\n",
       "5          181       484        323     284             41\n",
       "6          211       490        351     333             42\n",
       "7          213       431        329     346             30\n",
       "8          194       454        333     305             33\n",
       "9          176       438        299     274             30\n",
       "10         182       486        383     298             46\n",
       "11         219       475        316     319             33\n",
       "12         197       477        366     288             28\n",
       "13         189       447        330     312             26\n",
       "14         213       427        363     311             45\n",
       "15         201       475        349     305             31\n",
       "16         196       449        425     328             44\n",
       "17         234       489        373     311             56\n",
       "18         227       459        348     281             33\n",
       "19         203       459        368     284             44\n",
       "20         210       490        356     323             54\n",
       "21         217       405        335     293             28\n",
       "22         200       409        329     339             43\n",
       "23         264       559        390     351             40\n",
       "24         240       474        337     307             32\n",
       "25         176       385        282     236             34\n",
       "26         247       453        307     317             15\n",
       "27         212       436        349     282             34\n",
       "28         206       403        318     310             25\n",
       "29         204       390        262     311             35\n",
       "30         177       377        320     310             38\n",
       "31         114       259        184     185             18"
      ]
     },
     "execution_count": 16,
     "metadata": {},
     "output_type": "execute_result"
    }
   ],
   "source": [
    "borough_injuries_daily"
   ]
  },
  {
   "cell_type": "markdown",
   "metadata": {},
   "source": [
    "# SAVE"
   ]
  },
  {
   "cell_type": "markdown",
   "metadata": {},
   "source": [
    "## DATA TO CSV"
   ]
  },
  {
   "cell_type": "code",
   "execution_count": 18,
   "metadata": {
    "ExecuteTime": {
     "end_time": "2017-03-05T21:12:11.223671",
     "start_time": "2017-03-05T21:12:10.573708"
    },
    "collapsed": false
   },
   "outputs": [],
   "source": [
    "# CSV verison\n",
    "data.to_csv(\"../data/injuries_2013_present.csv\")"
   ]
  },
  {
   "cell_type": "markdown",
   "metadata": {},
   "source": [
    "## DATA TO JSON"
   ]
  },
  {
   "cell_type": "code",
   "execution_count": 19,
   "metadata": {
    "ExecuteTime": {
     "end_time": "2017-03-05T21:12:13.565353",
     "start_time": "2017-03-05T21:12:13.560745"
    },
    "collapsed": true
   },
   "outputs": [],
   "source": [
    "def serise_to_json(data):\n",
    "    dates = np.array(data.index.values, dtype=np.datetime64)\n",
    "    values = data.values\n",
    "    dates_str = [str(i)[:10] for i in dates]\n",
    "    return [{'date': d, 'value': int(v)} for d, v in zip(dates_str, values)]"
   ]
  },
  {
   "cell_type": "markdown",
   "metadata": {},
   "source": [
    "### Monthly "
   ]
  },
  {
   "cell_type": "code",
   "execution_count": 20,
   "metadata": {
    "ExecuteTime": {
     "end_time": "2017-03-05T21:12:14.782510",
     "start_time": "2017-03-05T21:12:14.777356"
    },
    "collapsed": false
   },
   "outputs": [
    {
     "data": {
      "text/plain": [
       "[{'date': '2013-01-31', 'value': 1113},\n",
       " {'date': '2013-02-28', 'value': 984},\n",
       " {'date': '2013-03-31', 'value': 987},\n",
       " {'date': '2013-04-30', 'value': 901},\n",
       " {'date': '2013-05-31', 'value': 982}]"
      ]
     },
     "execution_count": 20,
     "metadata": {},
     "output_type": "execute_result"
    }
   ],
   "source": [
    "monthly_json = serise_to_json(monthly_injured)\n",
    "monthly_json[:5]"
   ]
  },
  {
   "cell_type": "code",
   "execution_count": 21,
   "metadata": {
    "ExecuteTime": {
     "end_time": "2017-03-05T21:12:15.589882",
     "start_time": "2017-03-05T21:12:15.585586"
    },
    "collapsed": true
   },
   "outputs": [],
   "source": [
    "monthly_outname = '../data/monthly_injured_2013_present.json'\n",
    "with open(monthly_outname, 'w') as outfile:\n",
    "    json.dump(monthly_json, outfile)"
   ]
  },
  {
   "cell_type": "markdown",
   "metadata": {},
   "source": [
    "### Daily"
   ]
  },
  {
   "cell_type": "code",
   "execution_count": 22,
   "metadata": {
    "ExecuteTime": {
     "end_time": "2017-03-05T21:12:16.502805",
     "start_time": "2017-03-05T21:12:16.496978"
    },
    "collapsed": false
   },
   "outputs": [],
   "source": [
    "daily_json = serise_to_json(daily_injured)"
   ]
  },
  {
   "cell_type": "code",
   "execution_count": 23,
   "metadata": {
    "ExecuteTime": {
     "end_time": "2017-03-05T21:12:17.336174",
     "start_time": "2017-03-05T21:12:17.321579"
    },
    "collapsed": false
   },
   "outputs": [],
   "source": [
    "daily_outname = '../data/daily_injured_2013_present.json'\n",
    "with open(daily_outname, 'w') as outfile:\n",
    "    json.dump(daily_json, outfile)"
   ]
  },
  {
   "cell_type": "code",
   "execution_count": 24,
   "metadata": {
    "ExecuteTime": {
     "end_time": "2017-03-05T21:12:19.278457",
     "start_time": "2017-03-05T21:12:19.265248"
    },
    "collapsed": false
   },
   "outputs": [
    {
     "data": {
      "text/html": [
       "<div>\n",
       "<table border=\"1\" class=\"dataframe\">\n",
       "  <thead>\n",
       "    <tr style=\"text-align: right;\">\n",
       "      <th></th>\n",
       "      <th>date</th>\n",
       "      <th>value</th>\n",
       "    </tr>\n",
       "  </thead>\n",
       "  <tbody>\n",
       "    <tr>\n",
       "      <th>1483</th>\n",
       "      <td>2017-01-23</td>\n",
       "      <td>228</td>\n",
       "    </tr>\n",
       "    <tr>\n",
       "      <th>1484</th>\n",
       "      <td>2017-01-24</td>\n",
       "      <td>133</td>\n",
       "    </tr>\n",
       "    <tr>\n",
       "      <th>1477</th>\n",
       "      <td>2017-01-17</td>\n",
       "      <td>105</td>\n",
       "    </tr>\n",
       "    <tr>\n",
       "      <th>329</th>\n",
       "      <td>2013-11-26</td>\n",
       "      <td>103</td>\n",
       "    </tr>\n",
       "    <tr>\n",
       "      <th>1052</th>\n",
       "      <td>2015-11-19</td>\n",
       "      <td>103</td>\n",
       "    </tr>\n",
       "    <tr>\n",
       "      <th>1395</th>\n",
       "      <td>2016-10-27</td>\n",
       "      <td>101</td>\n",
       "    </tr>\n",
       "    <tr>\n",
       "      <th>1463</th>\n",
       "      <td>2017-01-03</td>\n",
       "      <td>98</td>\n",
       "    </tr>\n",
       "    <tr>\n",
       "      <th>339</th>\n",
       "      <td>2013-12-06</td>\n",
       "      <td>90</td>\n",
       "    </tr>\n",
       "    <tr>\n",
       "      <th>1428</th>\n",
       "      <td>2016-11-29</td>\n",
       "      <td>89</td>\n",
       "    </tr>\n",
       "    <tr>\n",
       "      <th>694</th>\n",
       "      <td>2014-11-26</td>\n",
       "      <td>86</td>\n",
       "    </tr>\n",
       "  </tbody>\n",
       "</table>\n",
       "</div>"
      ],
      "text/plain": [
       "            date  value\n",
       "1483  2017-01-23    228\n",
       "1484  2017-01-24    133\n",
       "1477  2017-01-17    105\n",
       "329   2013-11-26    103\n",
       "1052  2015-11-19    103\n",
       "1395  2016-10-27    101\n",
       "1463  2017-01-03     98\n",
       "339   2013-12-06     90\n",
       "1428  2016-11-29     89\n",
       "694   2014-11-26     86"
      ]
     },
     "execution_count": 24,
     "metadata": {},
     "output_type": "execute_result"
    }
   ],
   "source": [
    "# MOST DANGEROUS DAY\n",
    "# 2017-01-23 - 228 PEDESTRIANS INJURIES\n",
    "pd.DataFrame(daily_json).sort_values(by='value', ascending=False)[:10]"
   ]
  }
 ],
 "metadata": {
  "kernelspec": {
   "display_name": "Python 3",
   "language": "python",
   "name": "python3"
  },
  "language_info": {
   "codemirror_mode": {
    "name": "ipython",
    "version": 3
   },
   "file_extension": ".py",
   "mimetype": "text/x-python",
   "name": "python",
   "nbconvert_exporter": "python",
   "pygments_lexer": "ipython3",
   "version": "3.6.0"
  }
 },
 "nbformat": 4,
 "nbformat_minor": 2
}
