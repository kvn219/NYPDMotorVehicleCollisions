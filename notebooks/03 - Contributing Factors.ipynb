{
 "cells": [
  {
   "cell_type": "code",
   "execution_count": 1,
   "metadata": {
    "ExecuteTime": {
     "end_time": "2017-03-08T21:36:41.287006",
     "start_time": "2017-03-08T21:36:39.767559"
    },
    "collapsed": true
   },
   "outputs": [],
   "source": [
    "%matplotlib inline\n",
    "import numpy as np\n",
    "import pandas as pd\n",
    "import matplotlib.pylab as plt\n",
    "import seaborn as sns\n",
    "from mlxtend.association import apriori\n",
    "from mlxtend.preprocessing import OnehotTransactions\n",
    "\n",
    "# Pandas Printing Options\n",
    "pd.set_option('display.float_format', lambda x: '%.7f' % x)\n",
    "pd.set_option('display.max_rows', 500)\n",
    "pd.set_option('display.max_columns', 500)\n",
    "pd.set_option('display.width', 1000)\n",
    "\n",
    "sns.set_style('white')"
   ]
  },
  {
   "cell_type": "markdown",
   "metadata": {},
   "source": [
    "# LOAD"
   ]
  },
  {
   "cell_type": "code",
   "execution_count": 2,
   "metadata": {
    "ExecuteTime": {
     "end_time": "2017-03-08T21:36:41.534836",
     "start_time": "2017-03-08T21:36:41.288567"
    },
    "collapsed": false
   },
   "outputs": [],
   "source": [
    "injuries = pd.read_csv(\"../data/injuries_2013_present.csv\", index_col=['DATE'], parse_dates=['DATE'])"
   ]
  },
  {
   "cell_type": "markdown",
   "metadata": {},
   "source": [
    "# FILTER CONTRIBUTING FACTORS"
   ]
  },
  {
   "cell_type": "code",
   "execution_count": 3,
   "metadata": {
    "ExecuteTime": {
     "end_time": "2017-03-08T21:36:41.545166",
     "start_time": "2017-03-08T21:36:41.536348"
    },
    "collapsed": false
   },
   "outputs": [],
   "source": [
    "contributing_factors = injuries[['CONTRIBUTING FACTOR VEHICLE 1',\n",
    "                                 'CONTRIBUTING FACTOR VEHICLE 2',\n",
    "                                 'CONTRIBUTING FACTOR VEHICLE 3',\n",
    "                                 'CONTRIBUTING FACTOR VEHICLE 4',\n",
    "                                 'CONTRIBUTING FACTOR VEHICLE 5']]"
   ]
  },
  {
   "cell_type": "markdown",
   "metadata": {},
   "source": [
    "# HELPER FUNCTIONS"
   ]
  },
  {
   "cell_type": "code",
   "execution_count": 4,
   "metadata": {
    "ExecuteTime": {
     "end_time": "2017-03-08T21:36:41.555919",
     "start_time": "2017-03-08T21:36:41.546682"
    },
    "collapsed": true
   },
   "outputs": [],
   "source": [
    "def filter_set(row):\n",
    "    filtered = [element for element in row if str(element) != 'nan']\n",
    "    filtered = [element for element in filtered if str(element) != 'Unspecified']\n",
    "    return filtered\n",
    "\n",
    "def my_generator(contributing_factors):\n",
    "    for i in contributing_factors.as_matrix():\n",
    "        if filter_set(i):\n",
    "            yield filter_set(i)\n",
    "            \n",
    "def get_factors(dataset):\n",
    "    oht = OnehotTransactions()\n",
    "    oht_ary = oht.fit(dataset).transform(dataset)\n",
    "    return pd.DataFrame(oht_ary, columns=oht.columns_)"
   ]
  },
  {
   "cell_type": "markdown",
   "metadata": {},
   "source": [
    "# GET FACTORS"
   ]
  },
  {
   "cell_type": "code",
   "execution_count": 5,
   "metadata": {
    "ExecuteTime": {
     "end_time": "2017-03-08T21:36:42.091238",
     "start_time": "2017-03-08T21:36:41.557361"
    },
    "collapsed": true
   },
   "outputs": [],
   "source": [
    "factors_obj = my_generator(contributing_factors)\n",
    "contributing_factors_to_injuries = [fact for fact in factors_obj]\n",
    "df = get_factors(contributing_factors_to_injuries)"
   ]
  },
  {
   "cell_type": "markdown",
   "metadata": {},
   "source": [
    "# RUN APRIORI"
   ]
  },
  {
   "cell_type": "code",
   "execution_count": 6,
   "metadata": {
    "ExecuteTime": {
     "end_time": "2017-03-08T21:36:42.097442",
     "start_time": "2017-03-08T21:36:42.092787"
    },
    "collapsed": false
   },
   "outputs": [
    {
     "data": {
      "text/plain": [
       "(19641, 47)"
      ]
     },
     "execution_count": 6,
     "metadata": {},
     "output_type": "execute_result"
    }
   ],
   "source": [
    "df.shape"
   ]
  },
  {
   "cell_type": "code",
   "execution_count": 7,
   "metadata": {
    "ExecuteTime": {
     "end_time": "2017-03-08T21:36:42.426404",
     "start_time": "2017-03-08T21:36:42.099277"
    },
    "collapsed": false
   },
   "outputs": [
    {
     "data": {
      "text/html": [
       "<div>\n",
       "<table border=\"1\" class=\"dataframe\">\n",
       "  <thead>\n",
       "    <tr style=\"text-align: right;\">\n",
       "      <th></th>\n",
       "      <th>support</th>\n",
       "      <th>itemsets</th>\n",
       "      <th>length</th>\n",
       "      <th>count</th>\n",
       "    </tr>\n",
       "  </thead>\n",
       "  <tbody>\n",
       "    <tr>\n",
       "      <th>0</th>\n",
       "      <td>0.0004073</td>\n",
       "      <td>[Accelerator Defective]</td>\n",
       "      <td>1</td>\n",
       "      <td>8.0000000</td>\n",
       "    </tr>\n",
       "    <tr>\n",
       "      <th>1</th>\n",
       "      <td>0.0134922</td>\n",
       "      <td>[Aggressive Driving/Road Rage]</td>\n",
       "      <td>1</td>\n",
       "      <td>265.0000000</td>\n",
       "    </tr>\n",
       "    <tr>\n",
       "      <th>2</th>\n",
       "      <td>0.0125757</td>\n",
       "      <td>[Alcohol Involvement]</td>\n",
       "      <td>1</td>\n",
       "      <td>247.0000000</td>\n",
       "    </tr>\n",
       "    <tr>\n",
       "      <th>3</th>\n",
       "      <td>0.0707703</td>\n",
       "      <td>[Backing Unsafely]</td>\n",
       "      <td>1</td>\n",
       "      <td>1390.0000000</td>\n",
       "    </tr>\n",
       "    <tr>\n",
       "      <th>4</th>\n",
       "      <td>0.0019347</td>\n",
       "      <td>[Brakes Defective]</td>\n",
       "      <td>1</td>\n",
       "      <td>38.0000000</td>\n",
       "    </tr>\n",
       "  </tbody>\n",
       "</table>\n",
       "</div>"
      ],
      "text/plain": [
       "    support                        itemsets  length        count\n",
       "0 0.0004073         [Accelerator Defective]       1    8.0000000\n",
       "1 0.0134922  [Aggressive Driving/Road Rage]       1  265.0000000\n",
       "2 0.0125757           [Alcohol Involvement]       1  247.0000000\n",
       "3 0.0707703              [Backing Unsafely]       1 1390.0000000\n",
       "4 0.0019347              [Brakes Defective]       1   38.0000000"
      ]
     },
     "execution_count": 7,
     "metadata": {},
     "output_type": "execute_result"
    }
   ],
   "source": [
    "results = apriori(df, min_support=0.0001, use_colnames=True)\n",
    "results['count'] = results['support'] * 19641\n",
    "results.head()"
   ]
  },
  {
   "cell_type": "code",
   "execution_count": 11,
   "metadata": {
    "ExecuteTime": {
     "end_time": "2017-03-08T21:40:56.009997",
     "start_time": "2017-03-08T21:40:56.000872"
    },
    "collapsed": false
   },
   "outputs": [
    {
     "data": {
      "text/plain": [
       "Driver Inattention/Distraction    6249\n",
       "Failure to Yield Right-of-Way     5704\n",
       "Backing Unsafely                  1390\n",
       "Passenger Distraction             1271\n",
       "Other Vehicular                    693\n",
       "Traffic Control Disregarded        452\n",
       "Glare                              445\n",
       "View Obstructed/Limited            440\n",
       "Pavement Slippery                  316\n",
       "Driver Inexperience                304\n",
       "dtype: int64"
      ]
     },
     "execution_count": 11,
     "metadata": {},
     "output_type": "execute_result"
    }
   ],
   "source": [
    "reasons = df.sum().sort_values(ascending=False)[:10]\n",
    "reasons"
   ]
  },
  {
   "cell_type": "markdown",
   "metadata": {},
   "source": [
    "# PLOT RESULTS"
   ]
  },
  {
   "cell_type": "code",
   "execution_count": 12,
   "metadata": {
    "ExecuteTime": {
     "end_time": "2017-03-08T21:41:09.087915",
     "start_time": "2017-03-08T21:41:08.720023"
    },
    "collapsed": false
   },
   "outputs": [
    {
     "data": {
      "image/png": "[encoded data removed]",
      "text/plain": [
       "<matplotlib.figure.Figure at 0x113cc9fd0>"
      ]
     },
     "metadata": {},
     "output_type": "display_data"
    }
   ],
   "source": [
    "values = reasons.values\n",
    "labels = reasons.index\n",
    "\n",
    "plt.figure(figsize=(8, 6))\n",
    "colors = ['gray' if (x < 5000) else 'red' for x in values]\n",
    "sns.barplot(reasons.values, labels, palette=colors)\n",
    "plt.tick_params(direction='inout', length=4, width=1, colors='black')\n",
    "plt.yticks(fontsize=12)\n",
    "plt.xticks(fontsize=12)\n",
    "sns.despine(bottom=True)"
   ]
  }
 ],
 "metadata": {
  "kernelspec": {
   "display_name": "Python 3",
   "language": "python",
   "name": "python3"
  },
  "language_info": {
   "codemirror_mode": {
    "name": "ipython",
    "version": 3
   },
   "file_extension": ".py",
   "mimetype": "text/x-python",
   "name": "python",
   "nbconvert_exporter": "python",
   "pygments_lexer": "ipython3",
   "version": "3.6.0"
  }
 },
 "nbformat": 4,
 "nbformat_minor": 2
}
