{
 "cells": [
  {
   "cell_type": "code",
   "execution_count": 11,
   "metadata": {
    "ExecuteTime": {
     "end_time": "2017-03-05T21:00:37.631414",
     "start_time": "2017-03-05T21:00:37.621109"
    },
    "collapsed": true
   },
   "outputs": [],
   "source": [
    "%matplotlib inline\n",
    "import numpy as np\n",
    "import pandas as pd\n",
    "import matplotlib.pylab as plt\n",
    "import seaborn as sns\n",
    "from mlxtend.association import apriori\n",
    "from mlxtend.preprocessing import OnehotTransactions\n",
    "import missingno as msno\n",
    "from matplotlib.colors import LogNorm\n",
    "\n",
    "\n",
    "# Pandas Printing Options\n",
    "pd.set_option('display.float_format', lambda x: '%.7f' % x)\n",
    "pd.set_option('display.max_rows', 500)\n",
    "pd.set_option('display.max_columns', 500)\n",
    "pd.set_option('display.width', 1000)\n",
    "\n",
    "sns.set_style('white')"
   ]
  },
  {
   "cell_type": "markdown",
   "metadata": {},
   "source": [
    "# LOAD"
   ]
  },
  {
   "cell_type": "code",
   "execution_count": 12,
   "metadata": {
    "ExecuteTime": {
     "end_time": "2017-03-05T21:00:37.872662",
     "start_time": "2017-03-05T21:00:37.633176"
    },
    "collapsed": false
   },
   "outputs": [],
   "source": [
    "injuries = pd.read_csv(\"../data/injuries_2013_present.csv\", index_col=['DATE'], parse_dates=['DATE'])"
   ]
  },
  {
   "cell_type": "markdown",
   "metadata": {},
   "source": [
    "# FILTER CONTRIBUTING FACTORS"
   ]
  },
  {
   "cell_type": "code",
   "execution_count": 13,
   "metadata": {
    "ExecuteTime": {
     "end_time": "2017-03-05T21:00:37.880079",
     "start_time": "2017-03-05T21:00:37.874161"
    },
    "collapsed": false
   },
   "outputs": [],
   "source": [
    "contributing_factors = injuries[['CONTRIBUTING FACTOR VEHICLE 1',\n",
    "                                 'CONTRIBUTING FACTOR VEHICLE 2',\n",
    "                                 'CONTRIBUTING FACTOR VEHICLE 3',\n",
    "                                 'CONTRIBUTING FACTOR VEHICLE 4',\n",
    "                                 'CONTRIBUTING FACTOR VEHICLE 5']]"
   ]
  },
  {
   "cell_type": "markdown",
   "metadata": {},
   "source": [
    "# HELPER FUNCTIONS"
   ]
  },
  {
   "cell_type": "code",
   "execution_count": 14,
   "metadata": {
    "ExecuteTime": {
     "end_time": "2017-03-05T21:00:37.890815",
     "start_time": "2017-03-05T21:00:37.881788"
    },
    "collapsed": true
   },
   "outputs": [],
   "source": [
    "def filter_set(row):\n",
    "    filtered = [element for element in row if str(element) != 'nan']\n",
    "    filtered = [element for element in filtered if str(element) != 'Unspecified']\n",
    "    return filtered\n",
    "\n",
    "def my_generator(contributing_factors):\n",
    "    for i in contributing_factors.as_matrix():\n",
    "        if filter_set(i):\n",
    "            yield filter_set(i)\n",
    "            \n",
    "def get_factors(dataset):\n",
    "    oht = OnehotTransactions()\n",
    "    oht_ary = oht.fit(dataset).transform(dataset)\n",
    "    return pd.DataFrame(oht_ary, columns=oht.columns_)"
   ]
  },
  {
   "cell_type": "markdown",
   "metadata": {},
   "source": [
    "# GET FACTORS"
   ]
  },
  {
   "cell_type": "code",
   "execution_count": 15,
   "metadata": {
    "ExecuteTime": {
     "end_time": "2017-03-05T21:00:38.483062",
     "start_time": "2017-03-05T21:00:37.892395"
    },
    "collapsed": true
   },
   "outputs": [],
   "source": [
    "factors_obj = my_generator(contributing_factors)\n",
    "\n",
    "contributing_factors_to_injuries = [fact for fact in factors_obj]\n",
    "\n",
    "df = get_factors(contributing_factors_to_injuries)"
   ]
  },
  {
   "cell_type": "markdown",
   "metadata": {},
   "source": [
    "# RUN APRIORI"
   ]
  },
  {
   "cell_type": "code",
   "execution_count": 16,
   "metadata": {
    "ExecuteTime": {
     "end_time": "2017-03-05T21:00:38.832040",
     "start_time": "2017-03-05T21:00:38.485160"
    },
    "collapsed": false
   },
   "outputs": [],
   "source": [
    "results = apriori(df, min_support=0.0001, use_colnames=True)\n",
    "\n",
    "top_10 = results[results['length'] > 1].sort_values(by='support', ascending=False).head(10)\n",
    "\n",
    "results['count'] = results['support'] * 18351"
   ]
  },
  {
   "cell_type": "code",
   "execution_count": 17,
   "metadata": {
    "ExecuteTime": {
     "end_time": "2017-03-05T21:00:38.839825",
     "start_time": "2017-03-05T21:00:38.834008"
    },
    "collapsed": false
   },
   "outputs": [],
   "source": [
    "reasons = df.sum().sort_values(ascending=False).head(10)"
   ]
  },
  {
   "cell_type": "code",
   "execution_count": 18,
   "metadata": {
    "ExecuteTime": {
     "end_time": "2017-03-05T21:00:38.844128",
     "start_time": "2017-03-05T21:00:38.841360"
    },
    "collapsed": true
   },
   "outputs": [],
   "source": [
    "labels = reasons.index"
   ]
  },
  {
   "cell_type": "code",
   "execution_count": 19,
   "metadata": {
    "ExecuteTime": {
     "end_time": "2017-03-05T21:00:38.851776",
     "start_time": "2017-03-05T21:00:38.846639"
    },
    "collapsed": false
   },
   "outputs": [
    {
     "data": {
      "text/plain": [
       "Driver Inattention/Distraction    6247\n",
       "Failure to Yield Right-of-Way     5701\n",
       "Backing Unsafely                  1390\n",
       "Passenger Distraction             1271\n",
       "Other Vehicular                    693\n",
       "Traffic Control Disregarded        452\n",
       "Glare                              445\n",
       "View Obstructed/Limited            440\n",
       "Pavement Slippery                  316\n",
       "Driver Inexperience                304\n",
       "dtype: int64"
      ]
     },
     "execution_count": 19,
     "metadata": {},
     "output_type": "execute_result"
    }
   ],
   "source": [
    "reasons"
   ]
  },
  {
   "cell_type": "markdown",
   "metadata": {},
   "source": [
    "# PLOT RESULTS"
   ]
  },
  {
   "cell_type": "code",
   "execution_count": 20,
   "metadata": {
    "ExecuteTime": {
     "end_time": "2017-03-05T21:00:38.870064",
     "start_time": "2017-03-05T21:00:38.853572"
    },
    "collapsed": false
   },
   "outputs": [
    {
     "ename": "NameError",
     "evalue": "name 'values' is not defined",
     "output_type": "error",
     "traceback": [
      "\u001b[0;31m---------------------------------------------------------------------------\u001b[0m",
      "\u001b[0;31mNameError\u001b[0m                                 Traceback (most recent call last)",
      "\u001b[0;32m<ipython-input-20-1c947e5cfb7e>\u001b[0m in \u001b[0;36m<module>\u001b[0;34m()\u001b[0m\n\u001b[1;32m      1\u001b[0m \u001b[0mplt\u001b[0m\u001b[0;34m.\u001b[0m\u001b[0mfigure\u001b[0m\u001b[0;34m(\u001b[0m\u001b[0mfigsize\u001b[0m\u001b[0;34m=\u001b[0m\u001b[0;34m(\u001b[0m\u001b[0;36m8\u001b[0m\u001b[0;34m,\u001b[0m \u001b[0;36m6\u001b[0m\u001b[0;34m)\u001b[0m\u001b[0;34m)\u001b[0m\u001b[0;34m\u001b[0m\u001b[0m\n\u001b[0;32m----> 2\u001b[0;31m \u001b[0mcolors\u001b[0m \u001b[0;34m=\u001b[0m \u001b[0;34m[\u001b[0m\u001b[0;34m'gray'\u001b[0m \u001b[0;32mif\u001b[0m \u001b[0;34m(\u001b[0m\u001b[0mx\u001b[0m \u001b[0;34m<\u001b[0m \u001b[0;36m5000\u001b[0m\u001b[0;34m)\u001b[0m \u001b[0;32melse\u001b[0m \u001b[0;34m'red'\u001b[0m \u001b[0;32mfor\u001b[0m \u001b[0mx\u001b[0m \u001b[0;32min\u001b[0m \u001b[0mvalues\u001b[0m\u001b[0;34m]\u001b[0m\u001b[0;34m\u001b[0m\u001b[0m\n\u001b[0m\u001b[1;32m      3\u001b[0m \u001b[0msns\u001b[0m\u001b[0;34m.\u001b[0m\u001b[0mbarplot\u001b[0m\u001b[0;34m(\u001b[0m\u001b[0mreasons\u001b[0m\u001b[0;34m.\u001b[0m\u001b[0mvalues\u001b[0m\u001b[0;34m,\u001b[0m \u001b[0mlabels\u001b[0m\u001b[0;34m,\u001b[0m \u001b[0mpalette\u001b[0m\u001b[0;34m=\u001b[0m\u001b[0mcolors\u001b[0m\u001b[0;34m)\u001b[0m\u001b[0;34m\u001b[0m\u001b[0m\n\u001b[1;32m      4\u001b[0m \u001b[0mplt\u001b[0m\u001b[0;34m.\u001b[0m\u001b[0mtick_params\u001b[0m\u001b[0;34m(\u001b[0m\u001b[0mdirection\u001b[0m\u001b[0;34m=\u001b[0m\u001b[0;34m'inout'\u001b[0m\u001b[0;34m,\u001b[0m \u001b[0mlength\u001b[0m\u001b[0;34m=\u001b[0m\u001b[0;36m4\u001b[0m\u001b[0;34m,\u001b[0m \u001b[0mwidth\u001b[0m\u001b[0;34m=\u001b[0m\u001b[0;36m1\u001b[0m\u001b[0;34m,\u001b[0m \u001b[0mcolors\u001b[0m\u001b[0;34m=\u001b[0m\u001b[0;34m'black'\u001b[0m\u001b[0;34m)\u001b[0m\u001b[0;34m\u001b[0m\u001b[0m\n\u001b[1;32m      5\u001b[0m \u001b[0msns\u001b[0m\u001b[0;34m.\u001b[0m\u001b[0mdespine\u001b[0m\u001b[0;34m(\u001b[0m\u001b[0mbottom\u001b[0m\u001b[0;34m=\u001b[0m\u001b[0;32mTrue\u001b[0m\u001b[0;34m)\u001b[0m\u001b[0;34m\u001b[0m\u001b[0m\n",
      "\u001b[0;31mNameError\u001b[0m: name 'values' is not defined"
     ]
    },
    {
     "data": {
      "text/plain": [
       "<matplotlib.figure.Figure at 0x116565550>"
      ]
     },
     "metadata": {},
     "output_type": "display_data"
    }
   ],
   "source": [
    "plt.figure(figsize=(8, 6))\n",
    "colors = ['gray' if (x < 5000) else 'red' for x in values]\n",
    "sns.barplot(reasons.values, labels, palette=colors)\n",
    "plt.tick_params(direction='inout', length=4, width=1, colors='black')\n",
    "sns.despine(bottom=True)"
   ]
  }
 ],
 "metadata": {
  "kernelspec": {
   "display_name": "Python 3",
   "language": "python",
   "name": "python3"
  },
  "language_info": {
   "codemirror_mode": {
    "name": "ipython",
    "version": 3
   },
   "file_extension": ".py",
   "mimetype": "text/x-python",
   "name": "python",
   "nbconvert_exporter": "python",
   "pygments_lexer": "ipython3",
   "version": "3.6.0"
  }
 },
 "nbformat": 4,
 "nbformat_minor": 2
}
