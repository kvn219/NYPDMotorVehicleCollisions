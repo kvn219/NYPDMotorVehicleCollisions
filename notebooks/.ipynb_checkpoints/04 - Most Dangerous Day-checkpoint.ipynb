{
 "cells": [
  {
   "cell_type": "code",
   "execution_count": 2,
   "metadata": {
    "ExecuteTime": {
     "end_time": "2017-03-08T17:07:11.036194",
     "start_time": "2017-03-08T17:07:11.024101"
    },
    "collapsed": true
   },
   "outputs": [],
   "source": [
    "%matplotlib inline\n",
    "import numpy as np\n",
    "import pandas as pd\n",
    "import matplotlib.pylab as plt\n",
    "import seaborn as sns\n",
    "from mlxtend.association import apriori\n",
    "from mlxtend.preprocessing import OnehotTransactions\n",
    "from scipy import stats\n",
    "\n",
    "\n",
    "# Pandas Printing Options\n",
    "pd.set_option('display.float_format', lambda x: '%.3f' % x)\n",
    "pd.set_option('display.max_rows', 500)\n",
    "pd.set_option('display.max_columns', 500)\n",
    "pd.set_option('display.width', 1000)\n",
    "\n",
    "sns.set_style('white')"
   ]
  },
  {
   "cell_type": "markdown",
   "metadata": {},
   "source": [
    "# LOAD"
   ]
  },
  {
   "cell_type": "code",
   "execution_count": 3,
   "metadata": {
    "ExecuteTime": {
     "end_time": "2017-03-08T17:07:12.490040",
     "start_time": "2017-03-08T17:07:12.207330"
    },
    "collapsed": true
   },
   "outputs": [],
   "source": [
    "data = pd.read_csv(\"../data/injuries_2013_present.csv\", index_col=['DATE'], parse_dates=['DATE'])"
   ]
  },
  {
   "cell_type": "markdown",
   "metadata": {},
   "source": [
    "# FILTER"
   ]
  },
  {
   "cell_type": "code",
   "execution_count": 4,
   "metadata": {
    "ExecuteTime": {
     "end_time": "2017-03-08T17:07:13.318438",
     "start_time": "2017-03-08T17:07:13.303669"
    },
    "collapsed": false
   },
   "outputs": [
    {
     "data": {
      "text/plain": [
       "(102, 28)"
      ]
     },
     "execution_count": 4,
     "metadata": {},
     "output_type": "execute_result"
    }
   ],
   "source": [
    "data = data['2017-01-23']\n",
    "data.shape"
   ]
  },
  {
   "cell_type": "code",
   "execution_count": 5,
   "metadata": {
    "ExecuteTime": {
     "end_time": "2017-03-08T17:07:13.999531",
     "start_time": "2017-03-08T17:07:13.972239"
    },
    "collapsed": false
   },
   "outputs": [
    {
     "data": {
      "text/html": [
       "<div>\n",
       "<table border=\"1\" class=\"dataframe\">\n",
       "  <thead>\n",
       "    <tr style=\"text-align: right;\">\n",
       "      <th></th>\n",
       "      <th>TIME</th>\n",
       "      <th>BOROUGH</th>\n",
       "      <th>ZIP CODE</th>\n",
       "      <th>LATITUDE</th>\n",
       "      <th>LONGITUDE</th>\n",
       "      <th>LOCATION</th>\n",
       "      <th>ON STREET NAME</th>\n",
       "      <th>CROSS STREET NAME</th>\n",
       "      <th>OFF STREET NAME</th>\n",
       "      <th>NUMBER OF PERSONS INJURED</th>\n",
       "      <th>NUMBER OF PERSONS KILLED</th>\n",
       "      <th>NUMBER OF PEDESTRIANS INJURED</th>\n",
       "      <th>NUMBER OF PEDESTRIANS KILLED</th>\n",
       "      <th>NUMBER OF CYCLIST INJURED</th>\n",
       "      <th>NUMBER OF CYCLIST KILLED</th>\n",
       "      <th>NUMBER OF MOTORIST INJURED</th>\n",
       "      <th>NUMBER OF MOTORIST KILLED</th>\n",
       "      <th>CONTRIBUTING FACTOR VEHICLE 1</th>\n",
       "      <th>CONTRIBUTING FACTOR VEHICLE 2</th>\n",
       "      <th>CONTRIBUTING FACTOR VEHICLE 3</th>\n",
       "      <th>CONTRIBUTING FACTOR VEHICLE 4</th>\n",
       "      <th>CONTRIBUTING FACTOR VEHICLE 5</th>\n",
       "      <th>UNIQUE KEY</th>\n",
       "      <th>VEHICLE TYPE CODE 1</th>\n",
       "      <th>VEHICLE TYPE CODE 2</th>\n",
       "      <th>VEHICLE TYPE CODE 3</th>\n",
       "      <th>VEHICLE TYPE CODE 4</th>\n",
       "      <th>VEHICLE TYPE CODE 5</th>\n",
       "    </tr>\n",
       "    <tr>\n",
       "      <th>DATE</th>\n",
       "      <th></th>\n",
       "      <th></th>\n",
       "      <th></th>\n",
       "      <th></th>\n",
       "      <th></th>\n",
       "      <th></th>\n",
       "      <th></th>\n",
       "      <th></th>\n",
       "      <th></th>\n",
       "      <th></th>\n",
       "      <th></th>\n",
       "      <th></th>\n",
       "      <th></th>\n",
       "      <th></th>\n",
       "      <th></th>\n",
       "      <th></th>\n",
       "      <th></th>\n",
       "      <th></th>\n",
       "      <th></th>\n",
       "      <th></th>\n",
       "      <th></th>\n",
       "      <th></th>\n",
       "      <th></th>\n",
       "      <th></th>\n",
       "      <th></th>\n",
       "      <th></th>\n",
       "      <th></th>\n",
       "      <th></th>\n",
       "    </tr>\n",
       "  </thead>\n",
       "  <tbody>\n",
       "    <tr>\n",
       "      <th>2017-01-23 17:35:00</th>\n",
       "      <td>17:35</td>\n",
       "      <td>BROOKLYN</td>\n",
       "      <td>11218.000</td>\n",
       "      <td>40.643</td>\n",
       "      <td>-73.991</td>\n",
       "      <td>(40.642685, -73.99122)</td>\n",
       "      <td>FORT HAMILTON PARKWAY</td>\n",
       "      <td>40 STREET</td>\n",
       "      <td>NaN</td>\n",
       "      <td>1</td>\n",
       "      <td>0</td>\n",
       "      <td>2</td>\n",
       "      <td>0</td>\n",
       "      <td>0</td>\n",
       "      <td>0</td>\n",
       "      <td>0</td>\n",
       "      <td>0</td>\n",
       "      <td>Failure to Yield Right-of-Way</td>\n",
       "      <td>NaN</td>\n",
       "      <td>NaN</td>\n",
       "      <td>NaN</td>\n",
       "      <td>NaN</td>\n",
       "      <td>3603448</td>\n",
       "      <td>PASSENGER VEHICLE</td>\n",
       "      <td>NaN</td>\n",
       "      <td>NaN</td>\n",
       "      <td>NaN</td>\n",
       "      <td>NaN</td>\n",
       "    </tr>\n",
       "    <tr>\n",
       "      <th>2017-01-23 17:35:00</th>\n",
       "      <td>17:35</td>\n",
       "      <td>QUEENS</td>\n",
       "      <td>11694.000</td>\n",
       "      <td>40.583</td>\n",
       "      <td>-73.828</td>\n",
       "      <td>(40.583138, -73.82798)</td>\n",
       "      <td>ROCKAWAY FREEWAY</td>\n",
       "      <td>BEACH 106 STREET</td>\n",
       "      <td>NaN</td>\n",
       "      <td>1</td>\n",
       "      <td>0</td>\n",
       "      <td>2</td>\n",
       "      <td>0</td>\n",
       "      <td>0</td>\n",
       "      <td>0</td>\n",
       "      <td>0</td>\n",
       "      <td>0</td>\n",
       "      <td>Driver Inattention/Distraction</td>\n",
       "      <td>NaN</td>\n",
       "      <td>NaN</td>\n",
       "      <td>NaN</td>\n",
       "      <td>NaN</td>\n",
       "      <td>3603513</td>\n",
       "      <td>PASSENGER VEHICLE</td>\n",
       "      <td>NaN</td>\n",
       "      <td>NaN</td>\n",
       "      <td>NaN</td>\n",
       "      <td>NaN</td>\n",
       "    </tr>\n",
       "    <tr>\n",
       "      <th>2017-01-23 18:05:00</th>\n",
       "      <td>18:05</td>\n",
       "      <td>MANHATTAN</td>\n",
       "      <td>10025.000</td>\n",
       "      <td>40.791</td>\n",
       "      <td>-73.969</td>\n",
       "      <td>(40.790928, -73.96893)</td>\n",
       "      <td>WEST 93 STREET</td>\n",
       "      <td>COLUMBUS AVENUE</td>\n",
       "      <td>NaN</td>\n",
       "      <td>1</td>\n",
       "      <td>0</td>\n",
       "      <td>3</td>\n",
       "      <td>0</td>\n",
       "      <td>0</td>\n",
       "      <td>0</td>\n",
       "      <td>0</td>\n",
       "      <td>0</td>\n",
       "      <td>Driver Inattention/Distraction</td>\n",
       "      <td>NaN</td>\n",
       "      <td>NaN</td>\n",
       "      <td>NaN</td>\n",
       "      <td>NaN</td>\n",
       "      <td>3603223</td>\n",
       "      <td>PASSENGER VEHICLE</td>\n",
       "      <td>NaN</td>\n",
       "      <td>NaN</td>\n",
       "      <td>NaN</td>\n",
       "      <td>NaN</td>\n",
       "    </tr>\n",
       "    <tr>\n",
       "      <th>2017-01-23 18:09:00</th>\n",
       "      <td>18:09</td>\n",
       "      <td>NaN</td>\n",
       "      <td>nan</td>\n",
       "      <td>40.679</td>\n",
       "      <td>-73.865</td>\n",
       "      <td>(40.678955, -73.86516)</td>\n",
       "      <td>ELDERTS LANE</td>\n",
       "      <td>NaN</td>\n",
       "      <td>NaN</td>\n",
       "      <td>1</td>\n",
       "      <td>0</td>\n",
       "      <td>3</td>\n",
       "      <td>0</td>\n",
       "      <td>0</td>\n",
       "      <td>0</td>\n",
       "      <td>0</td>\n",
       "      <td>0</td>\n",
       "      <td>Unspecified</td>\n",
       "      <td>NaN</td>\n",
       "      <td>NaN</td>\n",
       "      <td>NaN</td>\n",
       "      <td>NaN</td>\n",
       "      <td>3603314</td>\n",
       "      <td>PASSENGER VEHICLE</td>\n",
       "      <td>NaN</td>\n",
       "      <td>NaN</td>\n",
       "      <td>NaN</td>\n",
       "      <td>NaN</td>\n",
       "    </tr>\n",
       "    <tr>\n",
       "      <th>2017-01-23 19:00:00</th>\n",
       "      <td>19:00</td>\n",
       "      <td>QUEENS</td>\n",
       "      <td>11377.000</td>\n",
       "      <td>40.749</td>\n",
       "      <td>-73.900</td>\n",
       "      <td>(40.748955, -73.8997)</td>\n",
       "      <td>63 STREET</td>\n",
       "      <td>37 AVENUE</td>\n",
       "      <td>NaN</td>\n",
       "      <td>1</td>\n",
       "      <td>0</td>\n",
       "      <td>2</td>\n",
       "      <td>0</td>\n",
       "      <td>0</td>\n",
       "      <td>0</td>\n",
       "      <td>0</td>\n",
       "      <td>0</td>\n",
       "      <td>Failure to Yield Right-of-Way</td>\n",
       "      <td>NaN</td>\n",
       "      <td>NaN</td>\n",
       "      <td>NaN</td>\n",
       "      <td>NaN</td>\n",
       "      <td>3603422</td>\n",
       "      <td>PASSENGER VEHICLE</td>\n",
       "      <td>NaN</td>\n",
       "      <td>NaN</td>\n",
       "      <td>NaN</td>\n",
       "      <td>NaN</td>\n",
       "    </tr>\n",
       "  </tbody>\n",
       "</table>\n",
       "</div>"
      ],
      "text/plain": [
       "                      TIME    BOROUGH  ZIP CODE  LATITUDE  LONGITUDE                LOCATION         ON STREET NAME CROSS STREET NAME OFF STREET NAME  NUMBER OF PERSONS INJURED  NUMBER OF PERSONS KILLED  NUMBER OF PEDESTRIANS INJURED  NUMBER OF PEDESTRIANS KILLED  NUMBER OF CYCLIST INJURED  NUMBER OF CYCLIST KILLED  NUMBER OF MOTORIST INJURED  NUMBER OF MOTORIST KILLED   CONTRIBUTING FACTOR VEHICLE 1 CONTRIBUTING FACTOR VEHICLE 2 CONTRIBUTING FACTOR VEHICLE 3 CONTRIBUTING FACTOR VEHICLE 4 CONTRIBUTING FACTOR VEHICLE 5  UNIQUE KEY VEHICLE TYPE CODE 1 VEHICLE TYPE CODE 2 VEHICLE TYPE CODE 3 VEHICLE TYPE CODE 4 VEHICLE TYPE CODE 5\n",
       "DATE                                                                                                                                                                                                                                                                                                                                                                                                                                                                                                                                                                                                                                                       \n",
       "2017-01-23 17:35:00  17:35   BROOKLYN 11218.000    40.643    -73.991  (40.642685, -73.99122)  FORT HAMILTON PARKWAY         40 STREET             NaN                          1                         0                              2                             0                          0                         0                           0                          0   Failure to Yield Right-of-Way                           NaN                           NaN                           NaN                           NaN     3603448   PASSENGER VEHICLE                 NaN                 NaN                 NaN                 NaN\n",
       "2017-01-23 17:35:00  17:35     QUEENS 11694.000    40.583    -73.828  (40.583138, -73.82798)       ROCKAWAY FREEWAY  BEACH 106 STREET             NaN                          1                         0                              2                             0                          0                         0                           0                          0  Driver Inattention/Distraction                           NaN                           NaN                           NaN                           NaN     3603513   PASSENGER VEHICLE                 NaN                 NaN                 NaN                 NaN\n",
       "2017-01-23 18:05:00  18:05  MANHATTAN 10025.000    40.791    -73.969  (40.790928, -73.96893)         WEST 93 STREET   COLUMBUS AVENUE             NaN                          1                         0                              3                             0                          0                         0                           0                          0  Driver Inattention/Distraction                           NaN                           NaN                           NaN                           NaN     3603223   PASSENGER VEHICLE                 NaN                 NaN                 NaN                 NaN\n",
       "2017-01-23 18:09:00  18:09        NaN       nan    40.679    -73.865  (40.678955, -73.86516)           ELDERTS LANE               NaN             NaN                          1                         0                              3                             0                          0                         0                           0                          0                     Unspecified                           NaN                           NaN                           NaN                           NaN     3603314   PASSENGER VEHICLE                 NaN                 NaN                 NaN                 NaN\n",
       "2017-01-23 19:00:00  19:00     QUEENS 11377.000    40.749    -73.900   (40.748955, -73.8997)              63 STREET         37 AVENUE             NaN                          1                         0                              2                             0                          0                         0                           0                          0   Failure to Yield Right-of-Way                           NaN                           NaN                           NaN                           NaN     3603422   PASSENGER VEHICLE                 NaN                 NaN                 NaN                 NaN"
      ]
     },
     "execution_count": 5,
     "metadata": {},
     "output_type": "execute_result"
    }
   ],
   "source": [
    "data['2017-01-23'].head()"
   ]
  },
  {
   "cell_type": "markdown",
   "metadata": {},
   "source": [
    "# CONTRIBUTING FACTORS"
   ]
  },
  {
   "cell_type": "code",
   "execution_count": 6,
   "metadata": {
    "ExecuteTime": {
     "end_time": "2017-03-08T17:07:15.123699",
     "start_time": "2017-03-08T17:07:15.119554"
    },
    "collapsed": false
   },
   "outputs": [],
   "source": [
    "contributing_factors = data[['CONTRIBUTING FACTOR VEHICLE 1',\n",
    "                                 'CONTRIBUTING FACTOR VEHICLE 2',\n",
    "                                 'CONTRIBUTING FACTOR VEHICLE 3',\n",
    "                                 'CONTRIBUTING FACTOR VEHICLE 4',\n",
    "                                 'CONTRIBUTING FACTOR VEHICLE 5']]"
   ]
  },
  {
   "cell_type": "markdown",
   "metadata": {},
   "source": [
    "# HELPER FUNCTIONS"
   ]
  },
  {
   "cell_type": "code",
   "execution_count": 7,
   "metadata": {
    "ExecuteTime": {
     "end_time": "2017-03-08T17:07:16.128263",
     "start_time": "2017-03-08T17:07:16.119947"
    },
    "collapsed": true
   },
   "outputs": [],
   "source": [
    "def filter_set(row):\n",
    "    filtered = [element for element in row if str(element) != 'nan']\n",
    "    filtered = [element for element in filtered if str(element) != 'Unspecified']\n",
    "    return filtered\n",
    "\n",
    "def my_generator(contributing_factors):\n",
    "    for i in contributing_factors.as_matrix():\n",
    "        if filter_set(i):\n",
    "            yield filter_set(i)\n",
    "            \n",
    "def get_factors(dataset):\n",
    "    oht = OnehotTransactions()\n",
    "    oht_ary = oht.fit(dataset).transform(dataset)\n",
    "    return pd.DataFrame(oht_ary, columns=oht.columns_)"
   ]
  },
  {
   "cell_type": "markdown",
   "metadata": {},
   "source": [
    "# GET FACTORS"
   ]
  },
  {
   "cell_type": "code",
   "execution_count": 8,
   "metadata": {
    "ExecuteTime": {
     "end_time": "2017-03-08T17:07:16.972249",
     "start_time": "2017-03-08T17:07:16.966698"
    },
    "collapsed": true
   },
   "outputs": [],
   "source": [
    "factors_obj = my_generator(contributing_factors)\n",
    "\n",
    "contributing_factors_to_injuries = [fact for fact in factors_obj]\n",
    "\n",
    "df = get_factors(contributing_factors_to_injuries)"
   ]
  },
  {
   "cell_type": "code",
   "execution_count": 17,
   "metadata": {
    "ExecuteTime": {
     "end_time": "2017-03-08T17:09:18.742850",
     "start_time": "2017-03-08T17:09:18.739649"
    },
    "collapsed": false
   },
   "outputs": [],
   "source": [
    "n = df.shape[0]"
   ]
  },
  {
   "cell_type": "markdown",
   "metadata": {},
   "source": [
    "# RUN APRIORI"
   ]
  },
  {
   "cell_type": "code",
   "execution_count": 27,
   "metadata": {
    "ExecuteTime": {
     "end_time": "2017-03-08T17:13:42.997040",
     "start_time": "2017-03-08T17:13:42.979062"
    },
    "collapsed": false
   },
   "outputs": [
    {
     "data": {
      "text/html": [
       "<div>\n",
       "<table border=\"1\" class=\"dataframe\">\n",
       "  <thead>\n",
       "    <tr style=\"text-align: right;\">\n",
       "      <th></th>\n",
       "      <th>support</th>\n",
       "      <th>itemsets</th>\n",
       "      <th>length</th>\n",
       "      <th>count</th>\n",
       "    </tr>\n",
       "  </thead>\n",
       "  <tbody>\n",
       "    <tr>\n",
       "      <th>0</th>\n",
       "      <td>0.016</td>\n",
       "      <td>[Alcohol Involvement]</td>\n",
       "      <td>1</td>\n",
       "      <td>1.000</td>\n",
       "    </tr>\n",
       "    <tr>\n",
       "      <th>1</th>\n",
       "      <td>0.047</td>\n",
       "      <td>[Backing Unsafely]</td>\n",
       "      <td>1</td>\n",
       "      <td>3.000</td>\n",
       "    </tr>\n",
       "    <tr>\n",
       "      <th>2</th>\n",
       "      <td>0.359</td>\n",
       "      <td>[Driver Inattention/Distraction]</td>\n",
       "      <td>1</td>\n",
       "      <td>23.000</td>\n",
       "    </tr>\n",
       "    <tr>\n",
       "      <th>3</th>\n",
       "      <td>0.344</td>\n",
       "      <td>[Failure to Yield Right-of-Way]</td>\n",
       "      <td>1</td>\n",
       "      <td>22.000</td>\n",
       "    </tr>\n",
       "    <tr>\n",
       "      <th>4</th>\n",
       "      <td>0.031</td>\n",
       "      <td>[Following Too Closely]</td>\n",
       "      <td>1</td>\n",
       "      <td>2.000</td>\n",
       "    </tr>\n",
       "    <tr>\n",
       "      <th>5</th>\n",
       "      <td>0.016</td>\n",
       "      <td>[Passing or Lane Usage Improper]</td>\n",
       "      <td>1</td>\n",
       "      <td>1.000</td>\n",
       "    </tr>\n",
       "    <tr>\n",
       "      <th>6</th>\n",
       "      <td>0.062</td>\n",
       "      <td>[Pavement Slippery]</td>\n",
       "      <td>1</td>\n",
       "      <td>4.000</td>\n",
       "    </tr>\n",
       "    <tr>\n",
       "      <th>7</th>\n",
       "      <td>0.094</td>\n",
       "      <td>[Pedestrian/Bicyclist/Other Pedestrian Error/C...</td>\n",
       "      <td>1</td>\n",
       "      <td>6.000</td>\n",
       "    </tr>\n",
       "    <tr>\n",
       "      <th>8</th>\n",
       "      <td>0.016</td>\n",
       "      <td>[Turning Improperly]</td>\n",
       "      <td>1</td>\n",
       "      <td>1.000</td>\n",
       "    </tr>\n",
       "    <tr>\n",
       "      <th>9</th>\n",
       "      <td>0.031</td>\n",
       "      <td>[View Obstructed/Limited]</td>\n",
       "      <td>1</td>\n",
       "      <td>2.000</td>\n",
       "    </tr>\n",
       "    <tr>\n",
       "      <th>0</th>\n",
       "      <td>0.016</td>\n",
       "      <td>[Following Too Closely, Passing or Lane Usage ...</td>\n",
       "      <td>2</td>\n",
       "      <td>1.000</td>\n",
       "    </tr>\n",
       "  </tbody>\n",
       "</table>\n",
       "</div>"
      ],
      "text/plain": [
       "   support                                           itemsets  length  count\n",
       "0    0.016                              [Alcohol Involvement]       1  1.000\n",
       "1    0.047                                 [Backing Unsafely]       1  3.000\n",
       "2    0.359                   [Driver Inattention/Distraction]       1 23.000\n",
       "3    0.344                    [Failure to Yield Right-of-Way]       1 22.000\n",
       "4    0.031                            [Following Too Closely]       1  2.000\n",
       "5    0.016                   [Passing or Lane Usage Improper]       1  1.000\n",
       "6    0.062                                [Pavement Slippery]       1  4.000\n",
       "7    0.094  [Pedestrian/Bicyclist/Other Pedestrian Error/C...       1  6.000\n",
       "8    0.016                               [Turning Improperly]       1  1.000\n",
       "9    0.031                          [View Obstructed/Limited]       1  2.000\n",
       "0    0.016  [Following Too Closely, Passing or Lane Usage ...       2  1.000"
      ]
     },
     "execution_count": 27,
     "metadata": {},
     "output_type": "execute_result"
    }
   ],
   "source": [
    "results = apriori(df, min_support=0.0001, use_colnames=True)\n",
    "results['count'] = results['support'] * n\n",
    "results"
   ]
  },
  {
   "cell_type": "code",
   "execution_count": 32,
   "metadata": {
    "ExecuteTime": {
     "end_time": "2017-03-08T17:15:08.422038",
     "start_time": "2017-03-08T17:15:08.415884"
    },
    "collapsed": false
   },
   "outputs": [
    {
     "data": {
      "text/plain": [
       "Driver Inattention/Distraction                           23\n",
       "Failure to Yield Right-of-Way                            22\n",
       "Pedestrian/Bicyclist/Other Pedestrian Error/Confusion     6\n",
       "Pavement Slippery                                         4\n",
       "Backing Unsafely                                          3\n",
       "View Obstructed/Limited                                   2\n",
       "Following Too Closely                                     2\n",
       "Turning Improperly                                        1\n",
       "Passing or Lane Usage Improper                            1\n",
       "Alcohol Involvement                                       1\n",
       "dtype: int64"
      ]
     },
     "execution_count": 32,
     "metadata": {},
     "output_type": "execute_result"
    }
   ],
   "source": [
    "reasons = df.sum().sort_values(ascending=False)\n",
    "reasons"
   ]
  },
  {
   "cell_type": "markdown",
   "metadata": {},
   "source": [
    "# PLOT"
   ]
  },
  {
   "cell_type": "code",
   "execution_count": 33,
   "metadata": {
    "ExecuteTime": {
     "end_time": "2017-03-08T17:15:39.557998",
     "start_time": "2017-03-08T17:15:39.265126"
    },
    "collapsed": false
   },
   "outputs": [
    {
     "data": {
      "image/png": "[encoded data removed]",
      "text/plain": [
       "<matplotlib.figure.Figure at 0x112c39b38>"
      ]
     },
     "metadata": {},
     "output_type": "display_data"
    }
   ],
   "source": [
    "labels = reasons.index\n",
    "values = reasons.values\n",
    "\n",
    "plt.figure(figsize=(8, 6))\n",
    "colors = ['gray' if (x < 15) else 'red' for x in values]\n",
    "sns.barplot(values, labels, palette=colors)\n",
    "plt.tick_params(direction='inout', length=4, width=1, colors='black')\n",
    "sns.despine(bottom=True)"
   ]
  },
  {
   "cell_type": "code",
   "execution_count": 34,
   "metadata": {
    "ExecuteTime": {
     "end_time": "2017-03-08T17:15:49.556030",
     "start_time": "2017-03-08T17:15:49.549939"
    },
    "collapsed": false
   },
   "outputs": [],
   "source": [
    "# SAVE FOR CARTODB\n",
    "data.to_csv('../data/most_dangerous_day.csv')"
   ]
  },
  {
   "cell_type": "markdown",
   "metadata": {},
   "source": [
    "# Answering Erilia's Question"
   ]
  },
  {
   "cell_type": "code",
   "execution_count": 35,
   "metadata": {
    "ExecuteTime": {
     "end_time": "2017-03-08T17:15:52.388034",
     "start_time": "2017-03-08T17:15:52.196546"
    },
    "collapsed": false
   },
   "outputs": [
    {
     "data": {
      "image/png": "[encoded data removed]",
      "text/plain": [
       "<matplotlib.figure.Figure at 0x110a83eb8>"
      ]
     },
     "metadata": {},
     "output_type": "display_data"
    }
   ],
   "source": [
    "# Q: Is there some accident on Jan 23, 2017 that got a massive amount of people injured?\n",
    "# A: There are 16 collisions with 3 or more pedestrains injured.\n",
    "# 86 collisions had 2 or less! I hope that answers your question.\n",
    "\n",
    "collision_to_num_injured_freq = stats.itemfreq(data['NUMBER OF PEDESTRIANS INJURED'])\n",
    "\n",
    "labels = collision_to_num_injured_freq[:, 0]\n",
    "values = collision_to_num_injured_freq[:, 1]\n",
    "\n",
    "sns.barplot(labels, values)\n",
    "plt.tick_params(direction='inout', length=4, width=1, colors='black')\n",
    "plt.ylabel('Number of Collisions')\n",
    "plt.xlabel('Number Injured From the Collision')\n",
    "sns.despine(bottom=True)"
   ]
  },
  {
   "cell_type": "code",
   "execution_count": 36,
   "metadata": {
    "ExecuteTime": {
     "end_time": "2017-03-08T17:15:56.171136",
     "start_time": "2017-03-08T17:15:56.165055"
    },
    "collapsed": false
   },
   "outputs": [
    {
     "data": {
      "text/plain": [
       "1     1\n",
       "2    85\n",
       "3     9\n",
       "4     6\n",
       "6     1\n",
       "Name: NUMBER OF PEDESTRIANS INJURED, dtype: int64"
      ]
     },
     "execution_count": 36,
     "metadata": {},
     "output_type": "execute_result"
    }
   ],
   "source": [
    "data['NUMBER OF PEDESTRIANS INJURED'].value_counts(sort=False)"
   ]
  }
 ],
 "metadata": {
  "kernelspec": {
   "display_name": "Python 3",
   "language": "python",
   "name": "python3"
  },
  "language_info": {
   "codemirror_mode": {
    "name": "ipython",
    "version": 3
   },
   "file_extension": ".py",
   "mimetype": "text/x-python",
   "name": "python",
   "nbconvert_exporter": "python",
   "pygments_lexer": "ipython3",
   "version": "3.6.0"
  }
 },
 "nbformat": 4,
 "nbformat_minor": 2
}
