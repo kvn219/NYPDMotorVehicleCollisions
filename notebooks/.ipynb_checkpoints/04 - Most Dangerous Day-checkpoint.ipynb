{
 "cells": [
  {
   "cell_type": "code",
   "execution_count": 1,
   "metadata": {
    "ExecuteTime": {
     "end_time": "2017-03-06T16:42:37.767467",
     "start_time": "2017-03-06T16:42:36.785498"
    },
    "collapsed": true
   },
   "outputs": [],
   "source": [
    "%matplotlib inline\n",
    "import numpy as np\n",
    "import pandas as pd\n",
    "import matplotlib.pylab as plt\n",
    "import seaborn as sns\n",
    "import missingno as msno\n",
    "from matplotlib.colors import LogNorm\n",
    "from mlxtend.association import apriori\n",
    "from mlxtend.preprocessing import OnehotTransactions\n",
    "from scipy import stats\n",
    "\n",
    "\n",
    "# Pandas Printing Options\n",
    "pd.set_option('display.float_format', lambda x: '%.3f' % x)\n",
    "pd.set_option('display.max_rows', 500)\n",
    "pd.set_option('display.max_columns', 500)\n",
    "pd.set_option('display.width', 1000)\n",
    "\n",
    "sns.set_style('white')"
   ]
  },
  {
   "cell_type": "markdown",
   "metadata": {},
   "source": [
    "# LOAD"
   ]
  },
  {
   "cell_type": "code",
   "execution_count": 2,
   "metadata": {
    "ExecuteTime": {
     "end_time": "2017-03-06T16:42:38.056115",
     "start_time": "2017-03-06T16:42:37.769076"
    },
    "collapsed": true
   },
   "outputs": [],
   "source": [
    "data = pd.read_csv(\"../data/injuries_2013_present.csv\", index_col=['DATE'], parse_dates=['DATE'])"
   ]
  },
  {
   "cell_type": "markdown",
   "metadata": {},
   "source": [
    "# FILTER"
   ]
  },
  {
   "cell_type": "code",
   "execution_count": 3,
   "metadata": {
    "ExecuteTime": {
     "end_time": "2017-03-06T16:42:38.071008",
     "start_time": "2017-03-06T16:42:38.057593"
    },
    "collapsed": false
   },
   "outputs": [
    {
     "data": {
      "text/plain": [
       "(102, 29)"
      ]
     },
     "execution_count": 3,
     "metadata": {},
     "output_type": "execute_result"
    }
   ],
   "source": [
    "data = data['2017-01-23']\n",
    "data.shape"
   ]
  },
  {
   "cell_type": "code",
   "execution_count": 4,
   "metadata": {
    "ExecuteTime": {
     "end_time": "2017-03-06T16:42:38.102242",
     "start_time": "2017-03-06T16:42:38.072354"
    },
    "collapsed": false
   },
   "outputs": [
    {
     "data": {
      "text/html": [
       "<div>\n",
       "<table border=\"1\" class=\"dataframe\">\n",
       "  <thead>\n",
       "    <tr style=\"text-align: right;\">\n",
       "      <th></th>\n",
       "      <th>TIME</th>\n",
       "      <th>BOROUGH</th>\n",
       "      <th>ZIP CODE</th>\n",
       "      <th>LATITUDE</th>\n",
       "      <th>LONGITUDE</th>\n",
       "      <th>LOCATION</th>\n",
       "      <th>ON STREET NAME</th>\n",
       "      <th>CROSS STREET NAME</th>\n",
       "      <th>OFF STREET NAME</th>\n",
       "      <th>NUMBER OF PERSONS INJURED</th>\n",
       "      <th>NUMBER OF PERSONS KILLED</th>\n",
       "      <th>NUMBER OF PEDESTRIANS INJURED</th>\n",
       "      <th>NUMBER OF PEDESTRIANS KILLED</th>\n",
       "      <th>NUMBER OF CYCLIST INJURED</th>\n",
       "      <th>NUMBER OF CYCLIST KILLED</th>\n",
       "      <th>NUMBER OF MOTORIST INJURED</th>\n",
       "      <th>NUMBER OF MOTORIST KILLED</th>\n",
       "      <th>CONTRIBUTING FACTOR VEHICLE 1</th>\n",
       "      <th>CONTRIBUTING FACTOR VEHICLE 2</th>\n",
       "      <th>CONTRIBUTING FACTOR VEHICLE 3</th>\n",
       "      <th>CONTRIBUTING FACTOR VEHICLE 4</th>\n",
       "      <th>CONTRIBUTING FACTOR VEHICLE 5</th>\n",
       "      <th>UNIQUE KEY</th>\n",
       "      <th>VEHICLE TYPE CODE 1</th>\n",
       "      <th>VEHICLE TYPE CODE 2</th>\n",
       "      <th>VEHICLE TYPE CODE 3</th>\n",
       "      <th>VEHICLE TYPE CODE 4</th>\n",
       "      <th>VEHICLE TYPE CODE 5</th>\n",
       "      <th>COLLISION</th>\n",
       "    </tr>\n",
       "    <tr>\n",
       "      <th>DATE</th>\n",
       "      <th></th>\n",
       "      <th></th>\n",
       "      <th></th>\n",
       "      <th></th>\n",
       "      <th></th>\n",
       "      <th></th>\n",
       "      <th></th>\n",
       "      <th></th>\n",
       "      <th></th>\n",
       "      <th></th>\n",
       "      <th></th>\n",
       "      <th></th>\n",
       "      <th></th>\n",
       "      <th></th>\n",
       "      <th></th>\n",
       "      <th></th>\n",
       "      <th></th>\n",
       "      <th></th>\n",
       "      <th></th>\n",
       "      <th></th>\n",
       "      <th></th>\n",
       "      <th></th>\n",
       "      <th></th>\n",
       "      <th></th>\n",
       "      <th></th>\n",
       "      <th></th>\n",
       "      <th></th>\n",
       "      <th></th>\n",
       "      <th></th>\n",
       "    </tr>\n",
       "  </thead>\n",
       "  <tbody>\n",
       "    <tr>\n",
       "      <th>2017-01-23 17:35:00</th>\n",
       "      <td>17:35</td>\n",
       "      <td>BROOKLYN</td>\n",
       "      <td>11218.000</td>\n",
       "      <td>40.643</td>\n",
       "      <td>-73.991</td>\n",
       "      <td>(40.642685, -73.99122)</td>\n",
       "      <td>FORT HAMILTON PARKWAY</td>\n",
       "      <td>40 STREET</td>\n",
       "      <td>NaN</td>\n",
       "      <td>1</td>\n",
       "      <td>0</td>\n",
       "      <td>2</td>\n",
       "      <td>0</td>\n",
       "      <td>0</td>\n",
       "      <td>0</td>\n",
       "      <td>0</td>\n",
       "      <td>0</td>\n",
       "      <td>Failure to Yield Right-of-Way</td>\n",
       "      <td>NaN</td>\n",
       "      <td>NaN</td>\n",
       "      <td>NaN</td>\n",
       "      <td>NaN</td>\n",
       "      <td>3603448</td>\n",
       "      <td>PASSENGER VEHICLE</td>\n",
       "      <td>NaN</td>\n",
       "      <td>NaN</td>\n",
       "      <td>NaN</td>\n",
       "      <td>NaN</td>\n",
       "      <td>1</td>\n",
       "    </tr>\n",
       "    <tr>\n",
       "      <th>2017-01-23 17:35:00</th>\n",
       "      <td>17:35</td>\n",
       "      <td>QUEENS</td>\n",
       "      <td>11694.000</td>\n",
       "      <td>40.583</td>\n",
       "      <td>-73.828</td>\n",
       "      <td>(40.583138, -73.82798)</td>\n",
       "      <td>ROCKAWAY FREEWAY</td>\n",
       "      <td>BEACH 106 STREET</td>\n",
       "      <td>NaN</td>\n",
       "      <td>1</td>\n",
       "      <td>0</td>\n",
       "      <td>2</td>\n",
       "      <td>0</td>\n",
       "      <td>0</td>\n",
       "      <td>0</td>\n",
       "      <td>0</td>\n",
       "      <td>0</td>\n",
       "      <td>Driver Inattention/Distraction</td>\n",
       "      <td>NaN</td>\n",
       "      <td>NaN</td>\n",
       "      <td>NaN</td>\n",
       "      <td>NaN</td>\n",
       "      <td>3603513</td>\n",
       "      <td>PASSENGER VEHICLE</td>\n",
       "      <td>NaN</td>\n",
       "      <td>NaN</td>\n",
       "      <td>NaN</td>\n",
       "      <td>NaN</td>\n",
       "      <td>1</td>\n",
       "    </tr>\n",
       "    <tr>\n",
       "      <th>2017-01-23 17:40:00</th>\n",
       "      <td>17:40</td>\n",
       "      <td>BROOKLYN</td>\n",
       "      <td>11234.000</td>\n",
       "      <td>40.631</td>\n",
       "      <td>-73.923</td>\n",
       "      <td>(40.630806, -73.92331)</td>\n",
       "      <td>EAST 55 STREET</td>\n",
       "      <td>AVENUE I</td>\n",
       "      <td>NaN</td>\n",
       "      <td>1</td>\n",
       "      <td>0</td>\n",
       "      <td>2</td>\n",
       "      <td>0</td>\n",
       "      <td>0</td>\n",
       "      <td>0</td>\n",
       "      <td>0</td>\n",
       "      <td>0</td>\n",
       "      <td>Unspecified</td>\n",
       "      <td>NaN</td>\n",
       "      <td>NaN</td>\n",
       "      <td>NaN</td>\n",
       "      <td>NaN</td>\n",
       "      <td>3604434</td>\n",
       "      <td>NaN</td>\n",
       "      <td>NaN</td>\n",
       "      <td>NaN</td>\n",
       "      <td>NaN</td>\n",
       "      <td>NaN</td>\n",
       "      <td>1</td>\n",
       "    </tr>\n",
       "    <tr>\n",
       "      <th>2017-01-23 17:40:00</th>\n",
       "      <td>17:40</td>\n",
       "      <td>NaN</td>\n",
       "      <td>nan</td>\n",
       "      <td>40.863</td>\n",
       "      <td>-73.903</td>\n",
       "      <td>(40.862713, -73.90299)</td>\n",
       "      <td>WEST FORDHAM ROAD</td>\n",
       "      <td>NaN</td>\n",
       "      <td>NaN</td>\n",
       "      <td>1</td>\n",
       "      <td>0</td>\n",
       "      <td>2</td>\n",
       "      <td>0</td>\n",
       "      <td>0</td>\n",
       "      <td>0</td>\n",
       "      <td>0</td>\n",
       "      <td>0</td>\n",
       "      <td>Driver Inattention/Distraction</td>\n",
       "      <td>NaN</td>\n",
       "      <td>NaN</td>\n",
       "      <td>NaN</td>\n",
       "      <td>NaN</td>\n",
       "      <td>3604719</td>\n",
       "      <td>PASSENGER VEHICLE</td>\n",
       "      <td>NaN</td>\n",
       "      <td>NaN</td>\n",
       "      <td>NaN</td>\n",
       "      <td>NaN</td>\n",
       "      <td>1</td>\n",
       "    </tr>\n",
       "    <tr>\n",
       "      <th>2017-01-23 17:45:00</th>\n",
       "      <td>17:45</td>\n",
       "      <td>BROOKLYN</td>\n",
       "      <td>11226.000</td>\n",
       "      <td>40.639</td>\n",
       "      <td>-73.956</td>\n",
       "      <td>(40.639065, -73.95598)</td>\n",
       "      <td>EAST 23 STREET</td>\n",
       "      <td>NEWKIRK AVENUE</td>\n",
       "      <td>NaN</td>\n",
       "      <td>1</td>\n",
       "      <td>0</td>\n",
       "      <td>2</td>\n",
       "      <td>0</td>\n",
       "      <td>0</td>\n",
       "      <td>0</td>\n",
       "      <td>0</td>\n",
       "      <td>0</td>\n",
       "      <td>Unspecified</td>\n",
       "      <td>NaN</td>\n",
       "      <td>NaN</td>\n",
       "      <td>NaN</td>\n",
       "      <td>NaN</td>\n",
       "      <td>3603702</td>\n",
       "      <td>SPORT UTILITY / STATION WAGON</td>\n",
       "      <td>NaN</td>\n",
       "      <td>NaN</td>\n",
       "      <td>NaN</td>\n",
       "      <td>NaN</td>\n",
       "      <td>1</td>\n",
       "    </tr>\n",
       "  </tbody>\n",
       "</table>\n",
       "</div>"
      ],
      "text/plain": [
       "                      TIME   BOROUGH  ZIP CODE  LATITUDE  LONGITUDE                LOCATION         ON STREET NAME CROSS STREET NAME OFF STREET NAME  NUMBER OF PERSONS INJURED  NUMBER OF PERSONS KILLED  NUMBER OF PEDESTRIANS INJURED  NUMBER OF PEDESTRIANS KILLED  NUMBER OF CYCLIST INJURED  NUMBER OF CYCLIST KILLED  NUMBER OF MOTORIST INJURED  NUMBER OF MOTORIST KILLED   CONTRIBUTING FACTOR VEHICLE 1 CONTRIBUTING FACTOR VEHICLE 2 CONTRIBUTING FACTOR VEHICLE 3 CONTRIBUTING FACTOR VEHICLE 4 CONTRIBUTING FACTOR VEHICLE 5  UNIQUE KEY            VEHICLE TYPE CODE 1 VEHICLE TYPE CODE 2 VEHICLE TYPE CODE 3 VEHICLE TYPE CODE 4 VEHICLE TYPE CODE 5  COLLISION\n",
       "DATE                                                                                                                                                                                                                                                                                                                                                                                                                                                                                                                                                                                                                                                                            \n",
       "2017-01-23 17:35:00  17:35  BROOKLYN 11218.000    40.643    -73.991  (40.642685, -73.99122)  FORT HAMILTON PARKWAY         40 STREET             NaN                          1                         0                              2                             0                          0                         0                           0                          0   Failure to Yield Right-of-Way                           NaN                           NaN                           NaN                           NaN     3603448              PASSENGER VEHICLE                 NaN                 NaN                 NaN                 NaN          1\n",
       "2017-01-23 17:35:00  17:35    QUEENS 11694.000    40.583    -73.828  (40.583138, -73.82798)       ROCKAWAY FREEWAY  BEACH 106 STREET             NaN                          1                         0                              2                             0                          0                         0                           0                          0  Driver Inattention/Distraction                           NaN                           NaN                           NaN                           NaN     3603513              PASSENGER VEHICLE                 NaN                 NaN                 NaN                 NaN          1\n",
       "2017-01-23 17:40:00  17:40  BROOKLYN 11234.000    40.631    -73.923  (40.630806, -73.92331)         EAST 55 STREET          AVENUE I             NaN                          1                         0                              2                             0                          0                         0                           0                          0                     Unspecified                           NaN                           NaN                           NaN                           NaN     3604434                            NaN                 NaN                 NaN                 NaN                 NaN          1\n",
       "2017-01-23 17:40:00  17:40       NaN       nan    40.863    -73.903  (40.862713, -73.90299)      WEST FORDHAM ROAD               NaN             NaN                          1                         0                              2                             0                          0                         0                           0                          0  Driver Inattention/Distraction                           NaN                           NaN                           NaN                           NaN     3604719              PASSENGER VEHICLE                 NaN                 NaN                 NaN                 NaN          1\n",
       "2017-01-23 17:45:00  17:45  BROOKLYN 11226.000    40.639    -73.956  (40.639065, -73.95598)         EAST 23 STREET    NEWKIRK AVENUE             NaN                          1                         0                              2                             0                          0                         0                           0                          0                     Unspecified                           NaN                           NaN                           NaN                           NaN     3603702  SPORT UTILITY / STATION WAGON                 NaN                 NaN                 NaN                 NaN          1"
      ]
     },
     "execution_count": 4,
     "metadata": {},
     "output_type": "execute_result"
    }
   ],
   "source": [
    "data['2017-01-23'].head()"
   ]
  },
  {
   "cell_type": "markdown",
   "metadata": {},
   "source": [
    "# CONTRIBUTING FACTORS"
   ]
  },
  {
   "cell_type": "code",
   "execution_count": 5,
   "metadata": {
    "ExecuteTime": {
     "end_time": "2017-03-06T16:42:38.107427",
     "start_time": "2017-03-06T16:42:38.103753"
    },
    "collapsed": false
   },
   "outputs": [],
   "source": [
    "contributing_factors = data[['CONTRIBUTING FACTOR VEHICLE 1',\n",
    "                                 'CONTRIBUTING FACTOR VEHICLE 2',\n",
    "                                 'CONTRIBUTING FACTOR VEHICLE 3',\n",
    "                                 'CONTRIBUTING FACTOR VEHICLE 4',\n",
    "                                 'CONTRIBUTING FACTOR VEHICLE 5']]"
   ]
  },
  {
   "cell_type": "markdown",
   "metadata": {},
   "source": [
    "# HELPER FUNCTIONS"
   ]
  },
  {
   "cell_type": "code",
   "execution_count": 6,
   "metadata": {
    "ExecuteTime": {
     "end_time": "2017-03-06T16:42:38.116711",
     "start_time": "2017-03-06T16:42:38.109122"
    },
    "collapsed": true
   },
   "outputs": [],
   "source": [
    "def filter_set(row):\n",
    "    filtered = [element for element in row if str(element) != 'nan']\n",
    "    filtered = [element for element in filtered if str(element) != 'Unspecified']\n",
    "    return filtered\n",
    "\n",
    "def my_generator(contributing_factors):\n",
    "    for i in contributing_factors.as_matrix():\n",
    "        if filter_set(i):\n",
    "            yield filter_set(i)\n",
    "            \n",
    "def get_factors(dataset):\n",
    "    oht = OnehotTransactions()\n",
    "    oht_ary = oht.fit(dataset).transform(dataset)\n",
    "    return pd.DataFrame(oht_ary, columns=oht.columns_)"
   ]
  },
  {
   "cell_type": "markdown",
   "metadata": {},
   "source": [
    "# GET FACTORS"
   ]
  },
  {
   "cell_type": "code",
   "execution_count": 7,
   "metadata": {
    "ExecuteTime": {
     "end_time": "2017-03-06T16:42:38.122822",
     "start_time": "2017-03-06T16:42:38.118122"
    },
    "collapsed": true
   },
   "outputs": [],
   "source": [
    "factors_obj = my_generator(contributing_factors)\n",
    "\n",
    "contributing_factors_to_injuries = [fact for fact in factors_obj]\n",
    "\n",
    "df = get_factors(contributing_factors_to_injuries)"
   ]
  },
  {
   "cell_type": "markdown",
   "metadata": {},
   "source": [
    "# RUN APRIORI"
   ]
  },
  {
   "cell_type": "code",
   "execution_count": 8,
   "metadata": {
    "ExecuteTime": {
     "end_time": "2017-03-06T16:42:38.134709",
     "start_time": "2017-03-06T16:42:38.124363"
    },
    "collapsed": true
   },
   "outputs": [],
   "source": [
    "results = apriori(df, min_support=0.0001, use_colnames=True)\n",
    "\n",
    "top_10 = results[results['length'] > 1].sort_values(by='support', ascending=False).head(10)\n",
    "\n",
    "results['count'] = results['support'] * 18351"
   ]
  },
  {
   "cell_type": "code",
   "execution_count": 9,
   "metadata": {
    "ExecuteTime": {
     "end_time": "2017-03-06T16:42:38.140843",
     "start_time": "2017-03-06T16:42:38.135899"
    },
    "collapsed": false
   },
   "outputs": [
    {
     "data": {
      "text/plain": [
       "Driver Inattention/Distraction                           23\n",
       "Failure to Yield Right-of-Way                            22\n",
       "Pedestrian/Bicyclist/Other Pedestrian Error/Confusion     6\n",
       "Pavement Slippery                                         4\n",
       "Backing Unsafely                                          3\n",
       "View Obstructed/Limited                                   2\n",
       "Following Too Closely                                     2\n",
       "Turning Improperly                                        1\n",
       "Passing or Lane Usage Improper                            1\n",
       "Alcohol Involvement                                       1\n",
       "dtype: int64"
      ]
     },
     "execution_count": 9,
     "metadata": {},
     "output_type": "execute_result"
    }
   ],
   "source": [
    "reasons = df.sum().sort_values(ascending=False).head(10)\n",
    "reasons"
   ]
  },
  {
   "cell_type": "markdown",
   "metadata": {},
   "source": [
    "# PLOT"
   ]
  },
  {
   "cell_type": "code",
   "execution_count": 10,
   "metadata": {
    "ExecuteTime": {
     "end_time": "2017-03-06T16:42:38.467782",
     "start_time": "2017-03-06T16:42:38.142007"
    },
    "collapsed": false
   },
   "outputs": [
    {
     "data": {
      "image/png": "[encoded data removed]",
      "text/plain": [
       "<matplotlib.figure.Figure at 0x11571f6a0>"
      ]
     },
     "metadata": {},
     "output_type": "display_data"
    }
   ],
   "source": [
    "labels = reasons.index\n",
    "values = reasons.values\n",
    "\n",
    "plt.figure(figsize=(8, 6))\n",
    "colors = ['gray' if (x < 15) else 'red' for x in values]\n",
    "sns.barplot(values, labels, palette=colors)\n",
    "plt.tick_params(direction='inout', length=4, width=1, colors='black')\n",
    "sns.despine(bottom=True)"
   ]
  },
  {
   "cell_type": "code",
   "execution_count": 11,
   "metadata": {
    "ExecuteTime": {
     "end_time": "2017-03-06T16:42:38.474883",
     "start_time": "2017-03-06T16:42:38.469333"
    },
    "collapsed": false
   },
   "outputs": [],
   "source": [
    "# SAVE FOR CARTODB\n",
    "data.to_csv('../data/most_dangerous_day.csv')"
   ]
  },
  {
   "cell_type": "markdown",
   "metadata": {},
   "source": [
    "# Answering Erilia's Question"
   ]
  },
  {
   "cell_type": "code",
   "execution_count": 12,
   "metadata": {
    "ExecuteTime": {
     "end_time": "2017-03-06T16:42:38.759640",
     "start_time": "2017-03-06T16:42:38.476953"
    },
    "collapsed": false
   },
   "outputs": [
    {
     "data": {
      "image/png": "[encoded data removed]",
      "text/plain": [
       "<matplotlib.figure.Figure at 0x1152f0f28>"
      ]
     },
     "metadata": {},
     "output_type": "display_data"
    }
   ],
   "source": [
    "# Q: Is there some accident on Jan 23, 2017 that got a massive amount of people injured?\n",
    "# A: There are 16 few collisions with 3 or more pedestrains injured.\n",
    "# 86 collisions had 2 or less! I hope that answers your question.\n",
    "\n",
    "collision_to_num_injured_freq = stats.itemfreq(data['NUMBER OF PEDESTRIANS INJURED'])\n",
    "\n",
    "labels = collision_to_num_injured_freq[:, 0]\n",
    "values = collision_to_num_injured_freq[:, 1]\n",
    "\n",
    "sns.barplot(labels, values)\n",
    "plt.tick_params(direction='inout', length=4, width=1, colors='black')\n",
    "plt.ylabel('Number of Collisions')\n",
    "plt.xlabel('Number Injured From the Collision')\n",
    "sns.despine(bottom=True)"
   ]
  },
  {
   "cell_type": "code",
   "execution_count": 13,
   "metadata": {
    "ExecuteTime": {
     "end_time": "2017-03-06T16:42:38.765827",
     "start_time": "2017-03-06T16:42:38.761029"
    },
    "collapsed": false
   },
   "outputs": [
    {
     "data": {
      "text/plain": [
       "1     1\n",
       "2    85\n",
       "3     9\n",
       "4     6\n",
       "6     1\n",
       "Name: NUMBER OF PEDESTRIANS INJURED, dtype: int64"
      ]
     },
     "execution_count": 13,
     "metadata": {},
     "output_type": "execute_result"
    }
   ],
   "source": [
    "data['NUMBER OF PEDESTRIANS INJURED'].value_counts(sort=False)"
   ]
  }
 ],
 "metadata": {
  "kernelspec": {
   "display_name": "Python 3",
   "language": "python",
   "name": "python3"
  },
  "language_info": {
   "codemirror_mode": {
    "name": "ipython",
    "version": 3
   },
   "file_extension": ".py",
   "mimetype": "text/x-python",
   "name": "python",
   "nbconvert_exporter": "python",
   "pygments_lexer": "ipython3",
   "version": "3.6.0"
  }
 },
 "nbformat": 4,
 "nbformat_minor": 2
}
